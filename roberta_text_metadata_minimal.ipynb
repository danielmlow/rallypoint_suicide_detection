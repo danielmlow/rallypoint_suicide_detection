{
 "cells": [
  {
   "cell_type": "markdown",
   "metadata": {
    "colab_type": "text",
    "id": "view-in-github"
   },
   "source": [
    "<a href=\"https://colab.research.google.com/github/danielmlow/rallypoint_suicide_detection/blob/main/multimodal_suicide_detector_minimal.ipynb\" target=\"_parent\"><img src=\"https://colab.research.google.com/assets/colab-badge.svg\" alt=\"Open In Colab\"/></a>"
   ]
  },
  {
   "cell_type": "markdown",
   "metadata": {
    "id": "gKArdyL0YY0t"
   },
   "source": [
    "# Model to detect suicidal posts from non-suicidal posts on RallyPoint\n",
    "\n",
    "\n",
    "### Important: activate GPU in Runtime/Change runtime type, install packages, restart runtime.\n",
    "\n",
    "### Authors\n",
    "- Before 2020: Leo (Amazon) and Erik Kastman (RallyPoint and Harvard) built and deployed first models. \n",
    "- 2020: Noah re-did models, extended model to include metadata (multimodal) and used a larger dataset. \n",
    "- October, 2021: Richard Kuzma reproduced results and fixed dataset by removing duplicate posts. \n",
    "- May, 2022: Daniel Low made this minimal script for deployment\n",
    "\n",
    "\n",
    "\n",
    "\n",
    "\n",
    "\n"
   ]
  },
  {
   "cell_type": "markdown",
   "metadata": {},
   "source": [
    "# Setting up python 3.7 if using on Colab"
   ]
  },
  {
   "cell_type": "code",
   "execution_count": null,
   "metadata": {
    "colab": {
     "base_uri": "https://localhost:8080/"
    },
    "id": "7WCRXh7D4e5o",
    "outputId": "5a9f7c3a-aa80-44ea-cef1-98665558661c",
    "tags": []
   },
   "outputs": [],
   "source": [
    "## downgrade to python 3.7\n",
    "# !sudo apt-get install python3.7\n",
    "# !sudo apt-get update -y\n",
    "# !sudo update-alternatives --install /usr/bin/python3 python3 /usr/bin/python3.7 1\n",
    "# !sudo update-alternatives --config python3"
   ]
  },
  {
   "cell_type": "code",
   "execution_count": null,
   "metadata": {
    "id": "3Xw6oErl4Rpd",
    "tags": []
   },
   "outputs": [],
   "source": [
    "## confirm python version\n",
    "# !python --version"
   ]
  },
  {
   "cell_type": "code",
   "execution_count": null,
   "metadata": {
    "colab": {
     "base_uri": "https://localhost:8080/"
    },
    "id": "sAOt7BO25t8m",
    "outputId": "7cc823a5-4872-4a0b-a04d-3f60b20ceee1",
    "tags": []
   },
   "outputs": [],
   "source": [
    "## reinstall pip\n",
    "# !sudo apt-get install --reinstall python3.7-distutils\n",
    "# !sudo apt install python3-pip\n",
    "# !python -m pip install --upgrade --force-reinstall pip"
   ]
  },
  {
   "cell_type": "code",
   "execution_count": null,
   "metadata": {},
   "outputs": [],
   "source": [
    "!pip install -q redis==3.5.0 transformers==4.26.1 multimodal-transformers==0.2a0"
   ]
  },
  {
   "cell_type": "code",
   "execution_count": null,
   "metadata": {
    "id": "4aSbBmQwYY0w"
   },
   "outputs": [],
   "source": [
    "import os\n",
    "import datetime\n",
    "import pandas as pd\n",
    "import numpy as np\n",
    "import json\n",
    "import transformers\n",
    "from multimodal_transformers.data import load_data #was: from multimodal_toolkit.multimodal_transformers.data import load_data\n",
    "from multimodal_transformers.model import AutoModelWithTabular #was from multimodal_toolkit.multimodal_transformers.model import AutoModelWithTabular\n",
    "from transformers import AutoConfig, AutoTokenizer, Trainer\n",
    "from sklearn.metrics import classification_report, confusion_matrix\n",
    "from sklearn.metrics import roc_auc_score, recall_score, f1_score, precision_score\n",
    "from scipy.special import softmax\n",
    "import matplotlib.pyplot as plt\n",
    "import seaborn as sns\n",
    "import datetime"
   ]
  },
  {
   "cell_type": "code",
   "execution_count": null,
   "metadata": {
    "id": "2cSPiZdvYY0x"
   },
   "outputs": [],
   "source": [
    "import warnings\n",
    "warnings.filterwarnings(\"ignore\") #related to sklearn metrics"
   ]
  },
  {
   "cell_type": "code",
   "execution_count": null,
   "metadata": {
    "colab": {
     "base_uri": "https://localhost:8080/"
    },
    "id": "lcoF6OyGeQ1U",
    "outputId": "8cbd9198-ddae-4133-b2c5-a7bcc5ff8e0e"
   },
   "outputs": [],
   "source": [
    "from google.colab import drive\n",
    "drive.mount('/content/drive')"
   ]
  },
  {
   "cell_type": "code",
   "execution_count": null,
   "metadata": {
    "id": "4JDb_ofGYY0x"
   },
   "outputs": [],
   "source": [
    "input_dir = '/content/drive/MyDrive/datum/rallypoint_suicide_detection/data/input/' \n",
    "output_dir = '/content/drive/MyDrive/datum/rallypoint_suicide_detection/data/output/'\n",
    "data_path = input_dir+'final_datasets/' #comes from: \"RallyPoint Milestone 6 Code/Model notebook/multimodal_toolkit/datasets/rp/\"\n",
    "path_to_checkpoint = input_dir + 'performance/roberta_pretrained_meta_text_num(final)/' #comes from \"RallyPoint Milestone 6 Code/Model notebook/Multi-modal Toolkit/logs/\"\n",
    "save_outputs = False #results, plots\n",
    "config_name = \"rp_config(meta).json\"\n",
    "test_dataset_name = \"test.csv\""
   ]
  },
  {
   "cell_type": "markdown",
   "metadata": {
    "id": "CW7YJVS5YY00"
   },
   "source": [
    "\n",
    "# 1. Load Model"
   ]
  },
  {
   "cell_type": "code",
   "execution_count": null,
   "metadata": {
    "id": "CcUB3OOpYY01"
   },
   "outputs": [],
   "source": [
    "# this took me 30 sec on Google Colab GPU\n",
    "tokenizer = AutoTokenizer.from_pretrained(path_to_checkpoint)\n",
    "config = AutoConfig.from_pretrained(path_to_checkpoint)\n",
    "model = AutoModelWithTabular.from_pretrained(path_to_checkpoint, config=config)\n",
    "\n",
    "trainer = Trainer(model=model)\n"
   ]
  },
  {
   "cell_type": "markdown",
   "metadata": {
    "id": "uswZfYuGYY00"
   },
   "source": [
    "# 2. Load test data"
   ]
  },
  {
   "cell_type": "code",
   "execution_count": null,
   "metadata": {
    "colab": {
     "base_uri": "https://localhost:8080/",
     "height": 441
    },
    "id": "hDv-TolhYY0z",
    "outputId": "08f4b907-da42-40b9-f25e-48e52f0200ec"
   },
   "outputs": [],
   "source": [
    "load_subset = 10 # or int\n",
    "\n",
    "test = pd.read_csv(data_path + test_dataset_name)\n",
    "# test.label = test.label.astype('int8')\n",
    "if load_subset:\n",
    "  test = test.sample(load_subset)\n",
    "test.head()"
   ]
  },
  {
   "cell_type": "markdown",
   "metadata": {
    "id": "DE_jPWRXzmrI"
   },
   "source": [
    "#### 2.1. This the data that is needed\n"
   ]
  },
  {
   "cell_type": "code",
   "execution_count": null,
   "metadata": {
    "colab": {
     "base_uri": "https://localhost:8080/"
    },
    "id": "K5Uxu8hszk3Q",
    "outputId": "ec8be400-06f8-4290-8748-c2086d2c73b8"
   },
   "outputs": [],
   "source": [
    "with open(data_path + config_name, \"r\") as f:\n",
    "    data_config = dict(json.load(f))\n",
    "\n",
    "data_config"
   ]
  },
  {
   "cell_type": "markdown",
   "metadata": {
    "id": "ZIXc-MyZ0tCk"
   },
   "source": [
    "These are the variables being used:\n",
    "- 'label': 0 or 1 (integer; which is SITB_ABSENT or SITB_PRESENT)\n",
    "- 'reputation' (float between 0 and 1)\n",
    "- 'contact_size' (float between 0 and 1)\n",
    "- 'type_tag_content': three string variables concatenated. So we need to import these three variables and concatenate them.\n",
    "    - 'type': categorical, either: 0 (comment), 0.5 (question) or 1 (StatusUpdate)\n",
    "    - 'tag': list of strings, e.g., ['health', 'veterans', 'affairs', 'benefits' , 'military', 'family' , 'veterans', 'health', 'administration']\n",
    "    - 'content: string document \n",
    "    - Here's an example : 'type| comment tag| health veterans affairs benefits military family veterans health administration body| That is part of why I complain so loudly. I have been trying desperately to get mental and dental health for YEARS. My teeth are so bad now, that its a miracle I have not died from infections.' "
   ]
  },
  {
   "cell_type": "code",
   "execution_count": null,
   "metadata": {
    "id": "pzSaxXufYY00"
   },
   "outputs": [],
   "source": [
    "torch_dataset = load_data(\n",
    "                            data_df = test,\n",
    "                            text_cols = data_config['text_cols'], #['type_tag_content']\n",
    "                            tokenizer=tokenizer,\n",
    "                            categorical_cols= data_config['cat_cols'], #['type']\n",
    "                            categorical_encode_type=None,\n",
    "                            numerical_cols= data_config['num_cols'], #['reputation', 'contact_size']\n",
    "                            sep_text_token_str=tokenizer.sep_token, #</s>\n",
    "                            label_col=data_config['label_col'], #in the DF, 0s and 1s. \n",
    "                            label_list= data_config['label_list'] #['SITB_ABSENT', 'SITB_PRESENT'] not in DF, just what 0 and 1 are.\n",
    ")"
   ]
  },
  {
   "cell_type": "markdown",
   "metadata": {
    "id": "V885sgKSYY01"
   },
   "source": [
    "# 3. Predict"
   ]
  },
  {
   "cell_type": "code",
   "execution_count": null,
   "metadata": {
    "colab": {
     "base_uri": "https://localhost:8080/",
     "height": 395,
     "referenced_widgets": [
      "aa473477bbc74c9cb11d6af820c6917b",
      "c1450c5d9f744e2bbaef9e68f99c92d2",
      "f9242538d8274828bdcae9efea918ef2",
      "2d56136045a74f56987aa47e59f5ab7c",
      "75959293b2c54f52a7278f1390e01b86",
      "4d528cb434884f63ac453578d3178fe0",
      "358ca97c889a4bfa99c7600f46169508",
      "85465e7d01824ae492221bdfdb0ae943",
      "ac31e85082d84fa7ae9fe0b6987a90a2",
      "c28f7170de8e47f28eeed9bfeea47657",
      "c1bcee85340a4a919fd90733c9cce38f"
     ]
    },
    "id": "VD5d7G8dXwO5",
    "outputId": "9415922e-ab90-4432-e9ec-838a6bb8ae8d"
   },
   "outputs": [],
   "source": [
    "# This took 50 sec for 1712 predictions with Google Colab GPU (2022) or 2 sec for 100 predictions. \n",
    "prediction_object = trainer.predict(test_dataset=torch_dataset) #this provides values for 0 and 1\n",
    "predictions = prediction_object.predictions\n",
    "\n",
    "# Compare different thresholds to label_ids provided in prediction_object output\n",
    "predictions_softmax = softmax(predictions, axis=1)\n",
    "y_pred = np.array([np.argmax(elem) for elem in predictions_softmax]) # threshold = 0.5. Take largest (0.51 over 0.49)\n",
    "prediction_labels_softmax_score = [np.round(n[label],3) for n,label in zip(predictions_softmax,y_pred)]\n",
    "\n",
    "# Display minimal info: ID, post, y_pred\n",
    "test['y_pred'] = y_pred\n",
    "test['y_pred_softmax'] = prediction_labels_softmax_score\n",
    "test[['y_pred_softmax_sitb-','y_pred_softmax_sitb+']] = predictions_softmax\n",
    "test[['y_pred_logit_sitb-','y_pred_logit_sitb+']] = predictions\n",
    "test[['id','reputation', 'contact_size', 'type_tag_content','y_pred_softmax','y_pred']]"
   ]
  },
  {
   "cell_type": "code",
   "execution_count": null,
   "metadata": {
    "id": "NwcHNF3-awjM"
   },
   "outputs": [],
   "source": [
    "ts = datetime.datetime.utcnow().strftime('%y-%m-%dT%H-%M-%S')\n",
    "test.to_csv(output_dir+f'predictions_{ts}.csv')"
   ]
  }
 ],
 "metadata": {
  "accelerator": "GPU",
  "colab": {
   "collapsed_sections": [],
   "include_colab_link": true,
   "name": "multimodal_suicide_detector_minimal.ipynb",
   "provenance": []
  },
  "kernelspec": {
   "display_name": "myenv",
   "language": "python",
   "name": "myenv"
  },
  "language_info": {
   "codemirror_mode": {
    "name": "ipython",
    "version": 3
   },
   "file_extension": ".py",
   "mimetype": "text/x-python",
   "name": "python",
   "nbconvert_exporter": "python",
   "pygments_lexer": "ipython3",
   "version": "3.7.12"
  },
  "widgets": {
   "application/vnd.jupyter.widget-state+json": {
    "2d56136045a74f56987aa47e59f5ab7c": {
     "model_module": "@jupyter-widgets/controls",
     "model_module_version": "1.5.0",
     "model_name": "HTMLModel",
     "state": {
      "_dom_classes": [],
      "_model_module": "@jupyter-widgets/controls",
      "_model_module_version": "1.5.0",
      "_model_name": "HTMLModel",
      "_view_count": null,
      "_view_module": "@jupyter-widgets/controls",
      "_view_module_version": "1.5.0",
      "_view_name": "HTMLView",
      "description": "",
      "description_tooltip": null,
      "layout": "IPY_MODEL_c28f7170de8e47f28eeed9bfeea47657",
      "placeholder": "​",
      "style": "IPY_MODEL_c1bcee85340a4a919fd90733c9cce38f",
      "value": " 2/2 [00:00&lt;00:00,  3.14it/s]"
     }
    },
    "358ca97c889a4bfa99c7600f46169508": {
     "model_module": "@jupyter-widgets/controls",
     "model_module_version": "1.5.0",
     "model_name": "DescriptionStyleModel",
     "state": {
      "_model_module": "@jupyter-widgets/controls",
      "_model_module_version": "1.5.0",
      "_model_name": "DescriptionStyleModel",
      "_view_count": null,
      "_view_module": "@jupyter-widgets/base",
      "_view_module_version": "1.2.0",
      "_view_name": "StyleView",
      "description_width": ""
     }
    },
    "4d528cb434884f63ac453578d3178fe0": {
     "model_module": "@jupyter-widgets/base",
     "model_module_version": "1.2.0",
     "model_name": "LayoutModel",
     "state": {
      "_model_module": "@jupyter-widgets/base",
      "_model_module_version": "1.2.0",
      "_model_name": "LayoutModel",
      "_view_count": null,
      "_view_module": "@jupyter-widgets/base",
      "_view_module_version": "1.2.0",
      "_view_name": "LayoutView",
      "align_content": null,
      "align_items": null,
      "align_self": null,
      "border": null,
      "bottom": null,
      "display": null,
      "flex": null,
      "flex_flow": null,
      "grid_area": null,
      "grid_auto_columns": null,
      "grid_auto_flow": null,
      "grid_auto_rows": null,
      "grid_column": null,
      "grid_gap": null,
      "grid_row": null,
      "grid_template_areas": null,
      "grid_template_columns": null,
      "grid_template_rows": null,
      "height": null,
      "justify_content": null,
      "justify_items": null,
      "left": null,
      "margin": null,
      "max_height": null,
      "max_width": null,
      "min_height": null,
      "min_width": null,
      "object_fit": null,
      "object_position": null,
      "order": null,
      "overflow": null,
      "overflow_x": null,
      "overflow_y": null,
      "padding": null,
      "right": null,
      "top": null,
      "visibility": null,
      "width": null
     }
    },
    "75959293b2c54f52a7278f1390e01b86": {
     "model_module": "@jupyter-widgets/base",
     "model_module_version": "1.2.0",
     "model_name": "LayoutModel",
     "state": {
      "_model_module": "@jupyter-widgets/base",
      "_model_module_version": "1.2.0",
      "_model_name": "LayoutModel",
      "_view_count": null,
      "_view_module": "@jupyter-widgets/base",
      "_view_module_version": "1.2.0",
      "_view_name": "LayoutView",
      "align_content": null,
      "align_items": null,
      "align_self": null,
      "border": null,
      "bottom": null,
      "display": null,
      "flex": null,
      "flex_flow": null,
      "grid_area": null,
      "grid_auto_columns": null,
      "grid_auto_flow": null,
      "grid_auto_rows": null,
      "grid_column": null,
      "grid_gap": null,
      "grid_row": null,
      "grid_template_areas": null,
      "grid_template_columns": null,
      "grid_template_rows": null,
      "height": null,
      "justify_content": null,
      "justify_items": null,
      "left": null,
      "margin": null,
      "max_height": null,
      "max_width": null,
      "min_height": null,
      "min_width": null,
      "object_fit": null,
      "object_position": null,
      "order": null,
      "overflow": null,
      "overflow_x": null,
      "overflow_y": null,
      "padding": null,
      "right": null,
      "top": null,
      "visibility": null,
      "width": null
     }
    },
    "85465e7d01824ae492221bdfdb0ae943": {
     "model_module": "@jupyter-widgets/base",
     "model_module_version": "1.2.0",
     "model_name": "LayoutModel",
     "state": {
      "_model_module": "@jupyter-widgets/base",
      "_model_module_version": "1.2.0",
      "_model_name": "LayoutModel",
      "_view_count": null,
      "_view_module": "@jupyter-widgets/base",
      "_view_module_version": "1.2.0",
      "_view_name": "LayoutView",
      "align_content": null,
      "align_items": null,
      "align_self": null,
      "border": null,
      "bottom": null,
      "display": null,
      "flex": null,
      "flex_flow": null,
      "grid_area": null,
      "grid_auto_columns": null,
      "grid_auto_flow": null,
      "grid_auto_rows": null,
      "grid_column": null,
      "grid_gap": null,
      "grid_row": null,
      "grid_template_areas": null,
      "grid_template_columns": null,
      "grid_template_rows": null,
      "height": null,
      "justify_content": null,
      "justify_items": null,
      "left": null,
      "margin": null,
      "max_height": null,
      "max_width": null,
      "min_height": null,
      "min_width": null,
      "object_fit": null,
      "object_position": null,
      "order": null,
      "overflow": null,
      "overflow_x": null,
      "overflow_y": null,
      "padding": null,
      "right": null,
      "top": null,
      "visibility": null,
      "width": null
     }
    },
    "aa473477bbc74c9cb11d6af820c6917b": {
     "model_module": "@jupyter-widgets/controls",
     "model_module_version": "1.5.0",
     "model_name": "HBoxModel",
     "state": {
      "_dom_classes": [],
      "_model_module": "@jupyter-widgets/controls",
      "_model_module_version": "1.5.0",
      "_model_name": "HBoxModel",
      "_view_count": null,
      "_view_module": "@jupyter-widgets/controls",
      "_view_module_version": "1.5.0",
      "_view_name": "HBoxView",
      "box_style": "",
      "children": [
       "IPY_MODEL_c1450c5d9f744e2bbaef9e68f99c92d2",
       "IPY_MODEL_f9242538d8274828bdcae9efea918ef2",
       "IPY_MODEL_2d56136045a74f56987aa47e59f5ab7c"
      ],
      "layout": "IPY_MODEL_75959293b2c54f52a7278f1390e01b86"
     }
    },
    "ac31e85082d84fa7ae9fe0b6987a90a2": {
     "model_module": "@jupyter-widgets/controls",
     "model_module_version": "1.5.0",
     "model_name": "ProgressStyleModel",
     "state": {
      "_model_module": "@jupyter-widgets/controls",
      "_model_module_version": "1.5.0",
      "_model_name": "ProgressStyleModel",
      "_view_count": null,
      "_view_module": "@jupyter-widgets/base",
      "_view_module_version": "1.2.0",
      "_view_name": "StyleView",
      "bar_color": null,
      "description_width": ""
     }
    },
    "c1450c5d9f744e2bbaef9e68f99c92d2": {
     "model_module": "@jupyter-widgets/controls",
     "model_module_version": "1.5.0",
     "model_name": "HTMLModel",
     "state": {
      "_dom_classes": [],
      "_model_module": "@jupyter-widgets/controls",
      "_model_module_version": "1.5.0",
      "_model_name": "HTMLModel",
      "_view_count": null,
      "_view_module": "@jupyter-widgets/controls",
      "_view_module_version": "1.5.0",
      "_view_name": "HTMLView",
      "description": "",
      "description_tooltip": null,
      "layout": "IPY_MODEL_4d528cb434884f63ac453578d3178fe0",
      "placeholder": "​",
      "style": "IPY_MODEL_358ca97c889a4bfa99c7600f46169508",
      "value": "Prediction: 100%"
     }
    },
    "c1bcee85340a4a919fd90733c9cce38f": {
     "model_module": "@jupyter-widgets/controls",
     "model_module_version": "1.5.0",
     "model_name": "DescriptionStyleModel",
     "state": {
      "_model_module": "@jupyter-widgets/controls",
      "_model_module_version": "1.5.0",
      "_model_name": "DescriptionStyleModel",
      "_view_count": null,
      "_view_module": "@jupyter-widgets/base",
      "_view_module_version": "1.2.0",
      "_view_name": "StyleView",
      "description_width": ""
     }
    },
    "c28f7170de8e47f28eeed9bfeea47657": {
     "model_module": "@jupyter-widgets/base",
     "model_module_version": "1.2.0",
     "model_name": "LayoutModel",
     "state": {
      "_model_module": "@jupyter-widgets/base",
      "_model_module_version": "1.2.0",
      "_model_name": "LayoutModel",
      "_view_count": null,
      "_view_module": "@jupyter-widgets/base",
      "_view_module_version": "1.2.0",
      "_view_name": "LayoutView",
      "align_content": null,
      "align_items": null,
      "align_self": null,
      "border": null,
      "bottom": null,
      "display": null,
      "flex": null,
      "flex_flow": null,
      "grid_area": null,
      "grid_auto_columns": null,
      "grid_auto_flow": null,
      "grid_auto_rows": null,
      "grid_column": null,
      "grid_gap": null,
      "grid_row": null,
      "grid_template_areas": null,
      "grid_template_columns": null,
      "grid_template_rows": null,
      "height": null,
      "justify_content": null,
      "justify_items": null,
      "left": null,
      "margin": null,
      "max_height": null,
      "max_width": null,
      "min_height": null,
      "min_width": null,
      "object_fit": null,
      "object_position": null,
      "order": null,
      "overflow": null,
      "overflow_x": null,
      "overflow_y": null,
      "padding": null,
      "right": null,
      "top": null,
      "visibility": null,
      "width": null
     }
    },
    "f9242538d8274828bdcae9efea918ef2": {
     "model_module": "@jupyter-widgets/controls",
     "model_module_version": "1.5.0",
     "model_name": "FloatProgressModel",
     "state": {
      "_dom_classes": [],
      "_model_module": "@jupyter-widgets/controls",
      "_model_module_version": "1.5.0",
      "_model_name": "FloatProgressModel",
      "_view_count": null,
      "_view_module": "@jupyter-widgets/controls",
      "_view_module_version": "1.5.0",
      "_view_name": "ProgressView",
      "bar_style": "success",
      "description": "",
      "description_tooltip": null,
      "layout": "IPY_MODEL_85465e7d01824ae492221bdfdb0ae943",
      "max": 2,
      "min": 0,
      "orientation": "horizontal",
      "style": "IPY_MODEL_ac31e85082d84fa7ae9fe0b6987a90a2",
      "value": 2
     }
    }
   }
  }
 },
 "nbformat": 4,
 "nbformat_minor": 4
}
