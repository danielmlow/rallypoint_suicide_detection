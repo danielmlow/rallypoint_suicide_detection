{
 "cells": [
  {
   "cell_type": "markdown",
   "metadata": {},
   "source": [
    "# Load Noah's Model and replicate predictions and results\n",
    "Richard Kuzma and Noah Jones <br>October 2021<br><br>\n",
    "\n",
    "Part 1: Load model and infer on test data<br>\n",
    "Part 2: Conduct error analysis<br><br>\n",
    "\n",
    "If starting from scratch, start with Part 1. If coming back to this notebook after predictions have been saved, import libraries then start at Part 2.<br>\n",
    "\n",
    "\n",
    "\n",
    "\n",
    "\n"
   ]
  },
  {
   "cell_type": "markdown",
   "metadata": {},
   "source": [
    "<br><br><br>\n",
    "# Part 0 -- Imports and Load Data\n",
    "<br><br><br>"
   ]
  },
  {
   "cell_type": "code",
   "execution_count": 1,
   "metadata": {},
   "outputs": [
    {
     "name": "stderr",
     "output_type": "stream",
     "text": [
      "\u001b[34m\u001b[1mwandb\u001b[0m: \u001b[33mWARNING\u001b[0m W&B installed but not logged in.  Run `wandb login` or set the WANDB_API_KEY env variable.\n"
     ]
    }
   ],
   "source": [
    "import os\n",
    "import pickle\n",
    "import pandas as pd\n",
    "import numpy as np\n",
    "import torch\n",
    "import json\n",
    "import transformers\n",
    "from multimodal_toolkit.multimodal_transformers.data import load_data\n",
    "from multimodal_toolkit.multimodal_transformers.model import AutoModelWithTabular\n",
    "from transformers import AutoConfig, AutoTokenizer, Trainer\n",
    "from sklearn.metrics import classification_report, confusion_matrix\n",
    "import math\n",
    "import matplotlib.pyplot as plt"
   ]
  },
  {
   "cell_type": "code",
   "execution_count": 2,
   "metadata": {},
   "outputs": [],
   "source": [
    "import warnings\n",
    "warnings.filterwarnings(\"ignore\")"
   ]
  },
  {
   "cell_type": "code",
   "execution_count": 3,
   "metadata": {},
   "outputs": [],
   "source": [
    "path_to_multimodal_toolkit = \"multimodal_toolkit/\"\n",
    "config_name = \"rp_config(meta).json\"\n",
    "data_path = path_to_multimodal_toolkit + \"datasets/rp/\"\n",
    "path_to_checkpoint = path_to_multimodal_toolkit + \"logs/roberta_pretrained_meta_text_num(final)/pred_seed_2/\"\n",
    "\n",
    "train_dataset_name = \"train.csv\"\n",
    "val_dataset_name = \"val.csv\"\n",
    "test_dataset_name = \"test.csv\""
   ]
  },
  {
   "cell_type": "markdown",
   "metadata": {},
   "source": [
    "# Load Train Data"
   ]
  },
  {
   "cell_type": "code",
   "execution_count": 4,
   "metadata": {},
   "outputs": [
    {
     "name": "stdout",
     "output_type": "stream",
     "text": [
      "6478 posts in Train  |  1830 duplicates  |  4648 unique\n"
     ]
    }
   ],
   "source": [
    "train = pd.read_csv(data_path + train_dataset_name)\n",
    "print(f\"{len(train)} posts in Train  |  {len(train) - len(train.drop_duplicates(subset='id'))} duplicates  |  {len(train.drop_duplicates(subset='id'))} unique\")\n",
    "train_unique = train.drop_duplicates(subset='id')"
   ]
  },
  {
   "cell_type": "markdown",
   "metadata": {},
   "source": [
    "# Load val data"
   ]
  },
  {
   "cell_type": "code",
   "execution_count": 5,
   "metadata": {},
   "outputs": [
    {
     "name": "stdout",
     "output_type": "stream",
     "text": [
      "692 posts in Val  |  172 duplicates  |  520 unique\n"
     ]
    }
   ],
   "source": [
    "val = pd.read_csv(data_path + val_dataset_name)\n",
    "print(f\"{len(val)} posts in Val  |  {len(val) - len(val.drop_duplicates(subset='id'))} duplicates  |  {len(val.drop_duplicates(subset='id'))} unique\")\n",
    "val = val.drop_duplicates(subset='id')\n"
   ]
  },
  {
   "cell_type": "markdown",
   "metadata": {},
   "source": [
    "# Load test data"
   ]
  },
  {
   "cell_type": "code",
   "execution_count": 6,
   "metadata": {},
   "outputs": [
    {
     "name": "stdout",
     "output_type": "stream",
     "text": [
      "1712 posts in Test  |  433 duplicates  |  1279 unique\n"
     ]
    }
   ],
   "source": [
    "test = pd.read_csv(data_path + test_dataset_name)\n",
    "test.label = test.label.astype('int8')\n",
    "print(f\"{len(test)} posts in Test  |  {len(test) - len(test.drop_duplicates(subset='id'))} duplicates  |  {len(test.drop_duplicates(subset='id'))} unique\")\n",
    "test_with_dups = test.copy()\n",
    "test = test.drop_duplicates(subset='id')\n"
   ]
  },
  {
   "cell_type": "code",
   "execution_count": 7,
   "metadata": {},
   "outputs": [
    {
     "data": {
      "image/png": "[encoded data removed]",
      "text/plain": [
       "<Figure size 1152x576 with 1 Axes>"
      ]
     },
     "metadata": {
      "needs_background": "light"
     },
     "output_type": "display_data"
    }
   ],
   "source": [
    "test_dataset_names = test.dataset.value_counts().index\n",
    "test_dup_dataset_names = test_with_dups.dataset.value_counts().index\n",
    "assert(set(test_dataset_names) == set(test_dup_dataset_names))\n",
    "test_dataset_vals = test.dataset.value_counts().values\n",
    "test_dup_dataset_vals = test_with_dups.dataset.value_counts().values\n",
    "\n",
    "plt.figure(figsize=(16,8))\n",
    "plt.bar(x=test_dataset_names, height=test_dup_dataset_vals, color=\"firebrick\")\n",
    "plt.bar(x=test_dataset_names, height=test_dataset_vals, color=\"steelblue\")\n",
    "plt.suptitle(\"Which Data Sets do Test Data Come From?\", fontsize=24)\n",
    "plt.title(\"Red posts are duplicate posts\", fontsize=14)\n",
    "plt.xlabel(\"Data Set\", labelpad=50, fontsize=18)\n",
    "plt.xticks(fontsize=14)\n",
    "plt.ylabel(\"Number of Posts\", rotation=0, labelpad=90, fontsize=18)\n",
    "plt.show()"
   ]
  },
  {
   "cell_type": "markdown",
   "metadata": {},
   "source": [
    "<br><br><br>\n",
    "# Part 1 -- Load Model and Infer\n",
    "<br><br><br>"
   ]
  },
  {
   "cell_type": "markdown",
   "metadata": {},
   "source": [
    "## Step 1. Tokenizer"
   ]
  },
  {
   "cell_type": "code",
   "execution_count": 8,
   "metadata": {},
   "outputs": [],
   "source": [
    "tokenizer = AutoTokenizer.from_pretrained(path_to_checkpoint)"
   ]
  },
  {
   "cell_type": "markdown",
   "metadata": {},
   "source": [
    "## Step 2. Load Data"
   ]
  },
  {
   "cell_type": "code",
   "execution_count": 9,
   "metadata": {},
   "outputs": [],
   "source": [
    "with open(data_path + config_name, \"r\") as f:\n",
    "    data_config = dict(json.load(f))\n",
    "\n",
    "torch_dataset = load_data(\n",
    "                            data_df = test_with_dups,\n",
    "                            text_cols = data_config['text_cols'],\n",
    "                            tokenizer=tokenizer,\n",
    "                            categorical_cols= data_config['cat_cols'],\n",
    "                            categorical_encode_type=None,\n",
    "#                             numerical_transformer = \"yeo_johnson\",\n",
    "                            numerical_cols= data_config['num_cols'], \n",
    "                            sep_text_token_str=tokenizer.sep_token,\n",
    "                            label_col=data_config['label_col'],\n",
    "                            label_list= data_config['label_list']\n",
    ")"
   ]
  },
  {
   "cell_type": "markdown",
   "metadata": {},
   "source": [
    "## Step 3. Load Config"
   ]
  },
  {
   "cell_type": "code",
   "execution_count": 10,
   "metadata": {},
   "outputs": [],
   "source": [
    "config = AutoConfig.from_pretrained(path_to_checkpoint)"
   ]
  },
  {
   "cell_type": "markdown",
   "metadata": {},
   "source": [
    "## Step 4. Load Model"
   ]
  },
  {
   "cell_type": "code",
   "execution_count": 11,
   "metadata": {},
   "outputs": [],
   "source": [
    "model = AutoModelWithTabular.from_pretrained(path_to_checkpoint, config=config)"
   ]
  },
  {
   "cell_type": "markdown",
   "metadata": {},
   "source": [
    "## Step 5. Make Trainer"
   ]
  },
  {
   "cell_type": "code",
   "execution_count": 12,
   "metadata": {},
   "outputs": [],
   "source": [
    "trainer = Trainer(model=model)"
   ]
  },
  {
   "cell_type": "markdown",
   "metadata": {},
   "source": [
    "## Step 6. Predict"
   ]
  },
  {
   "cell_type": "code",
   "execution_count": 13,
   "metadata": {
    "scrolled": true
   },
   "outputs": [],
   "source": [
    "predictions = trainer.predict(test_dataset=torch_dataset).predictions\n",
    "prediction_labels = np.array([np.argmax(elem) for elem in predictions]).reshape(-1,1)"
   ]
  },
  {
   "cell_type": "markdown",
   "metadata": {},
   "source": [
    "## Step 7. Save Predictions"
   ]
  },
  {
   "cell_type": "code",
   "execution_count": 14,
   "metadata": {},
   "outputs": [],
   "source": [
    "with open(\"richard_results/\" + \"predictions.pkl\", \"wb\") as f:\n",
    "    pickle.dump(predictions, f)\n",
    "with open(\"richard_results/\" + \"prediction_labels.pkl\", \"wb\") as f:\n",
    "    pickle.dump(prediction_labels, f)"
   ]
  },
  {
   "cell_type": "markdown",
   "metadata": {},
   "source": [
    "<br><br><br>\n",
    "# Part 2 -- Analyze Results\n",
    "<br><br><br>"
   ]
  },
  {
   "cell_type": "markdown",
   "metadata": {},
   "source": [
    "## Step 8. Load Predictions"
   ]
  },
  {
   "cell_type": "code",
   "execution_count": 15,
   "metadata": {},
   "outputs": [],
   "source": [
    "with open(\"richard_results/\" + \"predictions.pkl\", \"rb\") as f:\n",
    "    predictions = pickle.load(f)\n",
    "with open(\"richard_results/\" + \"prediction_labels.pkl\", \"rb\") as f:\n",
    "    prediction_labels = pickle.load(f)"
   ]
  },
  {
   "cell_type": "code",
   "execution_count": 16,
   "metadata": {},
   "outputs": [
    {
     "name": "stdout",
     "output_type": "stream",
     "text": [
      "[0] | [ 3.6036606 -4.314269 ]\n",
      "[0] | [ 2.38798   -3.0696485]\n",
      "[1] | [-5.2031074  5.1110997]\n",
      "[0] | [ 3.3068507 -4.2265496]\n",
      "[0] | [ 3.897688 -4.634917]\n",
      "[0] | [ 3.5907888 -4.2626977]\n",
      "[0] | [ 3.8818011 -4.693766 ]\n",
      "[0] | [ 3.8413038 -4.456391 ]\n",
      "[0] | [ 1.1555367 -1.8302858]\n",
      "[0] | [ 3.97143  -4.919062]\n",
      "[0] | [ 3.5506544 -4.242747 ]\n",
      "[0] | [ 3.8200712 -4.643654 ]\n",
      "[0] | [ 2.7747588 -3.7051156]\n",
      "[0] | [ 3.8890636 -4.4537916]\n",
      "[0] | [ 3.0245528 -3.5627873]\n",
      "[0] | [ 3.8220267 -4.7132716]\n",
      "[0] | [ 3.025146 -3.924805]\n"
     ]
    }
   ],
   "source": [
    "# show a few examples of the prediction labels and raw prediction outputs\n",
    "shortened_range = math.floor(len(predictions)*.01)\n",
    "for idx in range(shortened_range):\n",
    "    print(f\"{prediction_labels[idx]} | {predictions[idx]}\")"
   ]
  },
  {
   "cell_type": "markdown",
   "metadata": {},
   "source": [
    "## Step 9. Add Prediction Labels and Raw Predictions to Test DataFrame"
   ]
  },
  {
   "cell_type": "code",
   "execution_count": 17,
   "metadata": {},
   "outputs": [
    {
     "name": "stdout",
     "output_type": "stream",
     "text": [
      "(1712, 13)\n",
      "(1279, 13)\n"
     ]
    }
   ],
   "source": [
    "test_with_dups[\"pred\"] = prediction_labels\n",
    "test_with_dups[\"pred_raw\"] = list(predictions)\n",
    "test_with_dups[\"id\"] = test_with_dups[\"id\"].astype(\"int32\")\n",
    "\n",
    "test = test_with_dups.drop_duplicates(subset='id')\n",
    "\n",
    "print(test_with_dups.shape)\n",
    "print(test.shape)\n"
   ]
  },
  {
   "cell_type": "markdown",
   "metadata": {},
   "source": [
    "## Step 10. Generate TP, TN, FP, FN, Errors DataFrames"
   ]
  },
  {
   "cell_type": "code",
   "execution_count": 18,
   "metadata": {},
   "outputs": [],
   "source": [
    "def generate_tp_tn_fp_fn_errors_dataframes(test):\n",
    "    tp = test[(test[\"label\"] == 1) & (test[\"pred\"]==1)]\n",
    "    tn = test[(test[\"label\"] == 0) & (test[\"pred\"]==0)]\n",
    "    fp = test[(test[\"label\"] == 0) & (test[\"pred\"]==1)]\n",
    "    fn = test[(test[\"label\"] == 1) & (test[\"pred\"]==0)]\n",
    "\n",
    "    tp[\"prediction_error_name\"] = \"True Positive\"\n",
    "    tn[\"prediction_error_name\"] = \"True Negative\"\n",
    "    fp[\"prediction_error_name\"] = \"False Positive\"\n",
    "    fn[\"prediction_error_name\"] = \"False Negative\"\n",
    "\n",
    "    col_order = ['id', 'label', 'pred', 'pred_raw', 'prediction_error_name', 'hash', 'content', 'dataset', 'reputation', 'contact_size', 'type', 'ancestry', 'tags', 'type_tag_content']\n",
    "    tp = tp[col_order]\n",
    "    tn = tn[col_order]\n",
    "    fp = fp[col_order]\n",
    "    fn = fn[col_order]\n",
    "\n",
    "    corrects = pd.concat([tp, tn])\n",
    "    errors = pd.concat([fp, fn])\n",
    "    errors[\"id\"] = errors[\"id\"].astype(\"int32\")\n",
    "    \n",
    "    tot = len(test)\n",
    "    num_tp = len(tp)\n",
    "    num_tn = len(tn)\n",
    "    num_fp = len(fp)\n",
    "    num_fn = len(fn)\n",
    "    num_errors = len(errors)\n",
    "    \n",
    "    print(f\"Num items in test set: {len(test)}\")\n",
    "    print(f\"Num TP: {num_tp}\")\n",
    "    print(f\"Num TN: {num_tn}\")\n",
    "    print(f\"Num FP: {num_fp}\")\n",
    "    print(f\"Num FN: {num_fn}\")\n",
    "    print(f\"\\nNum Errors: {num_errors}\")\n",
    "    \n",
    "    print(\"\\n\\nConfusion Matrix:\")\n",
    "    print(confusion_matrix(test[\"label\"], test[\"pred\"]))\n",
    "    print(\"\\n\")\n",
    "    print(classification_report(test[\"label\"], test[\"pred\"]))\n",
    "\n",
    "    return tp, tn, fp, fn, errors, corrects"
   ]
  },
  {
   "cell_type": "markdown",
   "metadata": {},
   "source": [
    "## Step 11. Show number of Errors, Confusion Matrix"
   ]
  },
  {
   "cell_type": "code",
   "execution_count": 19,
   "metadata": {},
   "outputs": [
    {
     "name": "stdout",
     "output_type": "stream",
     "text": [
      "Test Set With Duplicates: Correct Predictions, Errors, and Evaluation:\n",
      "\n",
      "Num items in test set: 1712\n",
      "Num TP: 113\n",
      "Num TN: 1511\n",
      "Num FP: 68\n",
      "Num FN: 20\n",
      "\n",
      "Num Errors: 88\n",
      "\n",
      "\n",
      "Confusion Matrix:\n",
      "[[1511   68]\n",
      " [  20  113]]\n",
      "\n",
      "\n",
      "              precision    recall  f1-score   support\n",
      "\n",
      "           0       0.99      0.96      0.97      1579\n",
      "           1       0.62      0.85      0.72       133\n",
      "\n",
      "    accuracy                           0.95      1712\n",
      "   macro avg       0.81      0.90      0.85      1712\n",
      "weighted avg       0.96      0.95      0.95      1712\n",
      "\n"
     ]
    }
   ],
   "source": [
    "print(f\"Test Set With Duplicates: Correct Predictions, Errors, and Evaluation:\\n\")\n",
    "tp_dup, tn_dup, fp_dup, fn_dup, errors_dup, corrects_dup = generate_tp_tn_fp_fn_errors_dataframes(test_with_dups)"
   ]
  },
  {
   "cell_type": "code",
   "execution_count": 20,
   "metadata": {},
   "outputs": [
    {
     "name": "stdout",
     "output_type": "stream",
     "text": [
      "Test Set **Without** Duplicates: Correct Predictions, Errors, and Evaluation:\n",
      "\n",
      "Num items in test set: 1279\n",
      "Num TP: 94\n",
      "Num TN: 1117\n",
      "Num FP: 52\n",
      "Num FN: 16\n",
      "\n",
      "Num Errors: 68\n",
      "\n",
      "\n",
      "Confusion Matrix:\n",
      "[[1117   52]\n",
      " [  16   94]]\n",
      "\n",
      "\n",
      "              precision    recall  f1-score   support\n",
      "\n",
      "           0       0.99      0.96      0.97      1169\n",
      "           1       0.64      0.85      0.73       110\n",
      "\n",
      "    accuracy                           0.95      1279\n",
      "   macro avg       0.81      0.91      0.85      1279\n",
      "weighted avg       0.96      0.95      0.95      1279\n",
      "\n"
     ]
    }
   ],
   "source": [
    "print(f\"Test Set **Without** Duplicates: Correct Predictions, Errors, and Evaluation:\\n\")\n",
    "tp, tn, fp, fn, errors, corrects = generate_tp_tn_fp_fn_errors_dataframes(test)"
   ]
  },
  {
   "cell_type": "markdown",
   "metadata": {},
   "source": [
    "## Step 12. Examine Noah's Errors"
   ]
  },
  {
   "cell_type": "code",
   "execution_count": 21,
   "metadata": {},
   "outputs": [
    {
     "name": "stdout",
     "output_type": "stream",
     "text": [
      "62 posts in Noah's Precreated Errors set  |  45 unique posts  |   17 duplicate posts\n",
      "\n",
      "\n",
      "Number of each Type of Error in Noah's precreated set (with duplicates)\n",
      "False Negative    41\n",
      "False Positive    21\n",
      "Name: prediction_error_name, dtype: int64\n",
      "\n",
      "\n",
      "Number of each Type of Error in Noah's precreated set (without duplicates)\n",
      "False Negative    30\n",
      "False Positive    15\n",
      "Name: prediction_error_name, dtype: int64\n",
      "\n",
      "\n",
      "No user hash in Noah's data, cannot compute number of unique users in data set\n",
      "\n",
      "\n",
      "Examples of Duplicate Posts\n"
     ]
    },
    {
     "data": {
      "text/html": [
       "<div>\n",
       "<style scoped>\n",
       "    .dataframe tbody tr th:only-of-type {\n",
       "        vertical-align: middle;\n",
       "    }\n",
       "\n",
       "    .dataframe tbody tr th {\n",
       "        vertical-align: top;\n",
       "    }\n",
       "\n",
       "    .dataframe thead th {\n",
       "        text-align: right;\n",
       "    }\n",
       "</style>\n",
       "<table border=\"1\" class=\"dataframe\">\n",
       "  <thead>\n",
       "    <tr style=\"text-align: right;\">\n",
       "      <th></th>\n",
       "      <th>id</th>\n",
       "      <th>type_tag_content</th>\n",
       "      <th>risk</th>\n",
       "      <th>reputation</th>\n",
       "      <th>contact_size</th>\n",
       "      <th>dataset</th>\n",
       "      <th>label</th>\n",
       "      <th>prediction_error_name</th>\n",
       "    </tr>\n",
       "  </thead>\n",
       "  <tbody>\n",
       "    <tr>\n",
       "      <th>58</th>\n",
       "      <td>561476</td>\n",
       "      <td>type| comment tag| ptsd health ptsd survivors ...</td>\n",
       "      <td>3.614488</td>\n",
       "      <td>0.000111</td>\n",
       "      <td>0.000300</td>\n",
       "      <td>Set 3</td>\n",
       "      <td>1.0</td>\n",
       "      <td>False Negative</td>\n",
       "    </tr>\n",
       "    <tr>\n",
       "      <th>57</th>\n",
       "      <td>561476</td>\n",
       "      <td>type| comment tag| ptsd health ptsd survivors ...</td>\n",
       "      <td>3.614488</td>\n",
       "      <td>0.000111</td>\n",
       "      <td>0.000300</td>\n",
       "      <td>nock2000</td>\n",
       "      <td>1.0</td>\n",
       "      <td>False Negative</td>\n",
       "    </tr>\n",
       "    <tr>\n",
       "      <th>61</th>\n",
       "      <td>756400</td>\n",
       "      <td>type| comment tag| suicide body| I noticed nob...</td>\n",
       "      <td>3.973253</td>\n",
       "      <td>0.081236</td>\n",
       "      <td>0.024348</td>\n",
       "      <td>Set 3</td>\n",
       "      <td>1.0</td>\n",
       "      <td>False Negative</td>\n",
       "    </tr>\n",
       "    <tr>\n",
       "      <th>60</th>\n",
       "      <td>756400</td>\n",
       "      <td>type| comment tag| suicide body| I noticed nob...</td>\n",
       "      <td>3.973253</td>\n",
       "      <td>0.081236</td>\n",
       "      <td>0.024348</td>\n",
       "      <td>nock2000</td>\n",
       "      <td>1.0</td>\n",
       "      <td>False Negative</td>\n",
       "    </tr>\n",
       "  </tbody>\n",
       "</table>\n",
       "</div>"
      ],
      "text/plain": [
       "        id                                   type_tag_content      risk  \\\n",
       "58  561476  type| comment tag| ptsd health ptsd survivors ...  3.614488   \n",
       "57  561476  type| comment tag| ptsd health ptsd survivors ...  3.614488   \n",
       "61  756400  type| comment tag| suicide body| I noticed nob...  3.973253   \n",
       "60  756400  type| comment tag| suicide body| I noticed nob...  3.973253   \n",
       "\n",
       "    reputation  contact_size   dataset  label prediction_error_name  \n",
       "58    0.000111      0.000300     Set 3    1.0        False Negative  \n",
       "57    0.000111      0.000300  nock2000    1.0        False Negative  \n",
       "61    0.081236      0.024348     Set 3    1.0        False Negative  \n",
       "60    0.081236      0.024348  nock2000    1.0        False Negative  "
      ]
     },
     "execution_count": 21,
     "metadata": {},
     "output_type": "execute_result"
    }
   ],
   "source": [
    "noah_errors_csv = os.path.join(\"..\", \"Dataset notebook\", \n",
    "                                       \"Error-prone-Datasets\", \n",
    "                                       \"False positives and False Negatives on Test.csv\")\n",
    "noah_errors = pd.read_csv(noah_errors_csv)\n",
    "noah_errors[\"id\"] = noah_errors[\"id\"].astype(\"int32\")\n",
    "\n",
    "print(f\"{len(noah_errors)} posts in Noah's Precreated Errors set  |  {noah_errors.id.nunique()} unique posts  |   {len(noah_errors) - noah_errors.id.nunique()} duplicate posts\")\n",
    "\n",
    "print(f\"\\n\\nNumber of each Type of Error in Noah's precreated set (with duplicates)\")\n",
    "print(noah_errors.prediction_error_name.value_counts())\n",
    "\n",
    "print(f\"\\n\\nNumber of each Type of Error in Noah's precreated set (without duplicates)\")\n",
    "print(noah_errors.drop_duplicates(subset='id', keep='first').prediction_error_name.value_counts())\n",
    "\n",
    "print(f\"\\n\\nNo user hash in Noah's data, cannot compute number of unique users in data set\")\n",
    "\n",
    "print(\"\\n\\nExamples of Duplicate Posts\")\n",
    "noah_errors_dups = noah_errors.copy(deep=True)\n",
    "noah_errors.drop_duplicates(subset='id', keep='first', inplace=True)\n",
    "\n",
    "noah_errors_dups[noah_errors_dups.id.duplicated(keep=False)].sort_values(by='id').head(4)\n",
    "\n"
   ]
  },
  {
   "cell_type": "markdown",
   "metadata": {},
   "source": [
    "## Step 13. Compare Noah's Error set to Richard's Error set"
   ]
  },
  {
   "cell_type": "code",
   "execution_count": 22,
   "metadata": {},
   "outputs": [
    {
     "name": "stdout",
     "output_type": "stream",
     "text": [
      "left_only     37\n",
      "both          31\n",
      "right_only    14\n",
      "Name: _merge, dtype: int64\n",
      "\n",
      "\n",
      "Noah's error set has 45 errors\n",
      "Richard's error set has 68 errors\n",
      "Combined, there are 82 errors\n",
      "\n",
      "\n",
      "31 errors found in both error sets\n",
      "37 errors found only in Richard's error set\n",
      "14 errors found only in Noah's error set\n"
     ]
    }
   ],
   "source": [
    "outer_join =  errors.merge(noah_errors[[\"id\", \"prediction_error_name\"]], on='id', how='outer', suffixes=(\"_richard\", \"_noah\"), indicator=True)\n",
    "col_order = ['id', 'label', 'pred', 'prediction_error_name_richard', 'prediction_error_name_noah', '_merge']\n",
    "outer_join = outer_join[col_order]\n",
    "\n",
    "\n",
    "print(outer_join._merge.value_counts())\n",
    "\n",
    "print(f\"\\n\\nNoah's error set has {len(noah_errors)} errors\")\n",
    "print(f\"Richard's error set has {len(errors)} errors\")\n",
    "print(f\"Combined, there are {len(outer_join)} errors\")\n",
    "\n",
    "print(f\"\\n\\n31 errors found in both error sets\")\n",
    "print(f\"37 errors found only in Richard's error set\")\n",
    "print(f\"14 errors found only in Noah's error set\")\n"
   ]
  },
  {
   "cell_type": "code",
   "execution_count": null,
   "metadata": {},
   "outputs": [],
   "source": []
  }
 ],
 "metadata": {
  "kernelspec": {
   "display_name": "env_nock",
   "language": "python",
   "name": "env_nock"
  },
  "language_info": {
   "codemirror_mode": {
    "name": "ipython",
    "version": 3
   },
   "file_extension": ".py",
   "mimetype": "text/x-python",
   "name": "python",
   "nbconvert_exporter": "python",
   "pygments_lexer": "ipython3",
   "version": "3.8.2"
  }
 },
 "nbformat": 4,
 "nbformat_minor": 4
}
