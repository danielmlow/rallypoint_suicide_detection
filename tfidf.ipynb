{
 "cells": [
  {
   "cell_type": "markdown",
   "metadata": {
    "colab_type": "text",
    "id": "view-in-github"
   },
   "source": [
    "<a href=\"https://colab.research.google.com/github/danielmlow/tutorials/blob/main/text/tfidf.ipynb\" target=\"_parent\"><img src=\"https://colab.research.google.com/assets/colab-badge.svg\" alt=\"Open In Colab\"/></a>"
   ]
  },
  {
   "cell_type": "markdown",
   "metadata": {
    "id": "mYP0vXXltSY0"
   },
   "source": [
    "\n",
    "# Train machine learning models for text classification using tf-idf  and see which features were important for prediction (feature importance)\n",
    "\n",
    "There are many options to build machine learning (ML) models.\n",
    "\n",
    "### Task:\n",
    "- Classification: dependent variable (DV) is categorical (binary or multinomial)\n",
    "- Regression: DV is ordinal or continuos.\n",
    "Note: \"logistic regression\" is for classication tasks. \n",
    "\n",
    "More advanced modeling is generalized linear models, generalized additive models. \n",
    "\n",
    "### Feature extraction\n",
    "\n",
    "When using text, audio, image data, you'll have to convert them into simpler vectors or matrices of numbers. Here we do tf-idf on text data. Deep learning tends to create features internally, so you don't have to create features. \n",
    "\n",
    "Next step could be to encode the documents with deep learning embeddings like BERT.\n",
    "\n",
    "\n",
    "### Evaluation: \n",
    "- Train-test split: 80-20 or 70-30 is normal. \n",
    "- Cross-validation: better for smaller datasets because a single test set is not representative of the data. sampling without replacement (K disjoint sets of the data)\n",
    "- Bootstrapping: sampling with replacement\n",
    "\n",
    "Try train-test split, then learn about cross-validation. \n",
    "\n",
    "### Hyperparameter tuning: \n",
    "- You can create a validation set from the train set to see which hyperparameters perform best. You only test once at the end on the test set using the hyperparameters that performed best on the validatio set. \n",
    "- If doing Cross-validation. You can do nested cross-validation: a CV within each train set. \n",
    "\n",
    "Learn about gridsearch. \n",
    "\n",
    "### Feature importance\n",
    "- Which variables are important for prediction? The method to answer this depends on the model used. Here is an overview for simple models: \n",
    "https://machinelearningmastery.com/calculate-feature-importance-with-python/\n",
    "\n",
    "SHAP, permutation importance, and LOFO work for any model. \n",
    "\n",
    "Book on the topic:\n",
    "https://christophm.github.io/interpretable-ml-book/\n",
    "\n",
    "\n"
   ]
  },
  {
   "cell_type": "code",
   "execution_count": 6,
   "metadata": {
    "id": "4TzsZVkbssC0",
    "tags": []
   },
   "outputs": [],
   "source": [
    "import pandas as pd\n",
    "import numpy as np\n",
    "import os\n",
    "from sklearn.feature_extraction.text import TfidfVectorizer\n",
    "from sklearn.pipeline import make_pipeline, Pipeline\n",
    "from sklearn.linear_model import LogisticRegression\n",
    "from sklearn.svm import SVC\n",
    "from sklearn.datasets import fetch_20newsgroups,fetch_california_housing\n",
    "from sklearn.model_selection import cross_validate\n",
    "# from sklearn.metrics import make_scorer, f1_score,precision_score,recall_score,accuracy_score, classification_report\n",
    "from sklearn import metrics\n",
    "from sklearn.metrics import classification_report, confusion_matrix, roc_auc_score, recall_score, f1_score, precision_score, ConfusionMatrixDisplay, precision_recall_curve, auc\n",
    "import datetime\n",
    "\n"
   ]
  },
  {
   "cell_type": "code",
   "execution_count": 9,
   "metadata": {
    "id": "BPW3wE7tvEEv",
    "tags": []
   },
   "outputs": [
    {
     "data": {
      "text/plain": [
       "'23-08-03T19-21-52'"
      ]
     },
     "execution_count": 9,
     "metadata": {},
     "output_type": "execute_result"
    }
   ],
   "source": [
    "# load dataset\n",
    "pd.set_option(\"display.max_columns\", None)\n",
    "# pd.options.display.width = 0\n",
    "\n",
    "\n",
    "on_colab = False\n",
    "\n",
    "if on_colab:\n",
    "    from google.colab import drive\n",
    "    project_name = 'project_name'\n",
    "    drive.mount('/content/drive')\n",
    "    input_dir = '/content/drive/MyDrive/datum/rallypoint_suicide_detection/data/input/'\n",
    "    output_dir = '/content/drive/MyDrive/datum/rallypoint_suicide_detection/data/output/'\n",
    "else:\n",
    "    input_dir = './data/input/final_datasets/'\n",
    "    output_dir = './data/output/performance/tfidf/'\n",
    "\n",
    "os.makedirs(output_dir,exist_ok=True)    \n",
    "ts = datetime.datetime.utcnow().strftime('%y-%m-%dT%H-%M-%S')\n",
    "ts"
   ]
  },
  {
   "cell_type": "code",
   "execution_count": 91,
   "metadata": {
    "tags": []
   },
   "outputs": [],
   "source": [
    "# load data\n",
    "train = pd.read_csv(input_dir+'train.csv', index_col=0)\n",
    "val = pd.read_csv(input_dir+'val.csv', index_col=0)\n",
    "test = pd.read_csv(input_dir+'test.csv', index_col=0)\n",
    "\n",
    "X_train = train['content'].values\n",
    "y_train = train['label'].values\n",
    "X_val = val['content'].values\n",
    "y_val = val['label'].values\n",
    "X_test = test['content'].values\n",
    "y_test = test['label'].values\n",
    "\n"
   ]
  },
  {
   "cell_type": "code",
   "execution_count": 12,
   "metadata": {
    "id": "pozlFs_VuTPH",
    "tags": []
   },
   "outputs": [],
   "source": [
    "# config. This section should be the only place where people change things\n",
    "cv = 5 # 5, 7 or 10 or typical values\n",
    "stop_words = 'english' # or None\n",
    "task = 'classification' # or 'regression'\n"
   ]
  },
  {
   "cell_type": "code",
   "execution_count": 53,
   "metadata": {
    "tags": []
   },
   "outputs": [],
   "source": [
    "# !pip install -q -U imbalanced-learn"
   ]
  },
  {
   "cell_type": "code",
   "execution_count": null,
   "metadata": {},
   "outputs": [],
   "source": []
  },
  {
   "cell_type": "code",
   "execution_count": 99,
   "metadata": {
    "tags": []
   },
   "outputs": [
    {
     "data": {
      "text/plain": [
       "array([0., 0., 1., ..., 0., 0., 0.])"
      ]
     },
     "execution_count": 99,
     "metadata": {},
     "output_type": "execute_result"
    }
   ],
   "source": [
    "y_train"
   ]
  },
  {
   "cell_type": "code",
   "execution_count": 100,
   "metadata": {
    "tags": []
   },
   "outputs": [
    {
     "ename": "TypeError",
     "evalue": "fit_resample() missing 1 required positional argument: 'self'",
     "output_type": "error",
     "traceback": [
      "\u001b[0;31m---------------------------------------------------------------------------\u001b[0m",
      "\u001b[0;31mTypeError\u001b[0m                                 Traceback (most recent call last)",
      "\u001b[0;32m/var/folders/6f/x95fldf13xn_k25tybdzgtqw0000gn/T/ipykernel_91033/2167639241.py\u001b[0m in \u001b[0;36m<module>\u001b[0;34m\u001b[0m\n\u001b[0;32m----> 1\u001b[0;31m \u001b[0mX_new\u001b[0m\u001b[0;34m,\u001b[0m \u001b[0my_new\u001b[0m \u001b[0;34m=\u001b[0m \u001b[0mRandomUnderSampler\u001b[0m\u001b[0;34m.\u001b[0m\u001b[0mfit_resample\u001b[0m\u001b[0;34m(\u001b[0m\u001b[0mX\u001b[0m \u001b[0;34m=\u001b[0m \u001b[0mX_train\u001b[0m\u001b[0;34m,\u001b[0m \u001b[0my\u001b[0m\u001b[0;34m=\u001b[0m \u001b[0my_train\u001b[0m\u001b[0;34m)\u001b[0m\u001b[0;34m\u001b[0m\u001b[0;34m\u001b[0m\u001b[0m\n\u001b[0m",
      "\u001b[0;31mTypeError\u001b[0m: fit_resample() missing 1 required positional argument: 'self'"
     ]
    }
   ],
   "source": [
    "X_new, y_new = RandomUnderSampler.fit_resample(X = X_train, y= y_train)"
   ]
  },
  {
   "cell_type": "code",
   "execution_count": 124,
   "metadata": {
    "tags": []
   },
   "outputs": [],
   "source": [
    "from lightgbm import LGBMClassifier"
   ]
  },
  {
   "cell_type": "code",
   "execution_count": 130,
   "metadata": {
    "id": "GXkgjZTYssw2",
    "tags": []
   },
   "outputs": [],
   "source": [
    "\n",
    "if task == 'classification':\n",
    "  models = [\n",
    "      LogisticRegression(),\n",
    "      LGBMClassifier()\n",
    "      # SVC(kernel='linear', class_weight='balanced', probability=True), \n",
    "            ]\n",
    "elif task == 'regression':\n",
    "  # ToDo: find equivalent model in sklearn but for regression\n",
    "  pass \n",
    "\n",
    "# feature extractor\n",
    "vectorizer = TfidfVectorizer(stop_words=stop_words, ngram_range=(1,2), max_df=0.9, min_df=3, max_features=None)\n",
    "\n",
    "\n",
    "from imblearn.pipeline import make_pipeline\n",
    "from imblearn.under_sampling import RandomUnderSampler\n",
    "\n",
    "smote = SMOTE(random_state=random_state)\n",
    "under = RandomUnderSampler(random_state=random_state)\n",
    "\n",
    "from imblearn.over_sampling import SMOTE\n",
    "random_state = 123\n",
    "methods = [\n",
    "    smote,\n",
    "    under\n",
    "]\n",
    "\n",
    "# X_y_train_balanced = {}\n",
    "# for method_i in methods:\n",
    "#     X_y_train_balanced[method_i] = [method_i.XXXXXX(X_train, y_train)]\n",
    "\n",
    "\n",
    "\n",
    "from imblearn.pipeline import Pipeline as imb_Pipeline\n",
    "\n",
    "pipelines = {}\n",
    "for model in models:\n",
    "    model_name = str(model).split('(')[0] # eg, LogisticRegression\n",
    "    # pipe = make_pipeline(\n",
    "    #     vectorizer,\n",
    "    #     RandomUnderSampler(random_state=123),\n",
    "    #     model,\n",
    "    # )\n",
    "\n",
    "    pipe = imb_Pipeline([\n",
    "     ('vectorizer', vectorizer),\n",
    "     ('balancer', SMOTE(random_state=random_state)),\n",
    "     ('model', model),\n",
    "    ])\n",
    "\n",
    "\n",
    "    \n",
    "        \n",
    "    # sklearn    \n",
    "    # pipe = Pipeline(\n",
    "    #   [\n",
    "    #       (\"vectorizer\",vectorizer),\n",
    "    #       (\"balancer\", under),\n",
    "    #       (\"model\", model)\n",
    "    #   ])\n",
    "    \n",
    "    pipelines[model_name] = pipe\n",
    "\n",
    "# param_grid = {\n",
    "#     'balancer': [None, SMOTE(), RandomUnderSampler()],\n",
    "#     'vectorizer__max_features': [None, 10000],\n",
    "# }\n",
    "# pipeline gridsearch: https://scikit-learn.org/stable/auto_examples/model_selection/grid_search_text_feature_extraction.html\n",
    "\n"
   ]
  },
  {
   "cell_type": "code",
   "execution_count": 131,
   "metadata": {
    "tags": []
   },
   "outputs": [],
   "source": [
    "from sklearn.model_selection import GridSearchCV"
   ]
  },
  {
   "cell_type": "code",
   "execution_count": 132,
   "metadata": {
    "tags": []
   },
   "outputs": [],
   "source": [
    "# param_grid = {\n",
    "\n",
    "#     'preprocessor__text__vectorizer__max_features': [2000, None],\n",
    "#     'lgbm__colsample_bytree': [1, 0.5, 0.1],\n",
    "#     'lgbm__max_depth': [-1,10,40], #-1 is the default and means No max depth\n",
    "#     'lgbm__min_child_weight': [0.01, 0.001, 0.0001],\n",
    "#     'lgbm__min_child_samples': [20,40], #alias: min_data_in_leaf\n",
    "    \n",
    "# }\n",
    "\n",
    "# grid_search = GridSearchCV(\n",
    "#     pipe, tuned_parameters, scoring=scores, refit=refit_strategy\n",
    "# )\n",
    "# grid_search.fit(X_train, y_train)\n",
    "\n",
    "#In order to prevent data leakage during hyperparameter tuning with the meta data, hard code the splits for cross validation\n",
    "#instead of using sklearn GridSearchCV\n",
    "# grid_search_train, grid_search_indices = get_cross_valid_dataset(train,val)\n",
    "# grid_search_train\n",
    "\n",
    "# text_grid_search = GridSearchCV(pipe, param_grid, scoring=[\"average_precision\", \"f1\", \"recall\", \"precision\"], refit=\"f1\", n_jobs=-1)\n",
    "# text_grid_search\n",
    "# text_grid_search.fit(grid_search_train, grid_search_train['label'])"
   ]
  },
  {
   "cell_type": "code",
   "execution_count": 133,
   "metadata": {
    "colab": {
     "base_uri": "https://localhost:8080/"
    },
    "id": "IDwyVRoO4Y1r",
    "outputId": "2f77280b-116f-40e5-82a4-4243655140b6",
    "tags": []
   },
   "outputs": [
    {
     "data": {
      "text/plain": [
       "dict_items([('LogisticRegression', Pipeline(steps=[('vectorizer',\n",
       "                 TfidfVectorizer(max_df=0.9, min_df=3, ngram_range=(1, 2),\n",
       "                                 stop_words='english')),\n",
       "                ('balancer', SMOTE(random_state=123)),\n",
       "                ('model', LogisticRegression())])), ('LGBMClassifier', Pipeline(steps=[('vectorizer',\n",
       "                 TfidfVectorizer(max_df=0.9, min_df=3, ngram_range=(1, 2),\n",
       "                                 stop_words='english')),\n",
       "                ('balancer', SMOTE(random_state=123)),\n",
       "                ('model', LGBMClassifier())]))])"
      ]
     },
     "execution_count": 133,
     "metadata": {},
     "output_type": "execute_result"
    }
   ],
   "source": [
    "pipelines.items()"
   ]
  },
  {
   "cell_type": "code",
   "execution_count": 134,
   "metadata": {
    "colab": {
     "base_uri": "https://localhost:8080/",
     "height": 307
    },
    "id": "64TRK4sS3w-u",
    "outputId": "a67c886e-d228-47f2-9ee3-f8f23bfccc22"
   },
   "outputs": [],
   "source": [
    "# for model_name, pipeline in pipelines.items():\n",
    "#   print(model_name)\n",
    "#   display(pipeline)\n",
    "#   print()"
   ]
  },
  {
   "cell_type": "markdown",
   "metadata": {
    "id": "FT4PVPm1s8ee"
   },
   "source": [
    "# Train and evaluate model"
   ]
  },
  {
   "cell_type": "code",
   "execution_count": 135,
   "metadata": {
    "tags": []
   },
   "outputs": [
    {
     "data": {
      "text/plain": [
       "'./data/output/performance/tfidf/'"
      ]
     },
     "execution_count": 135,
     "metadata": {},
     "output_type": "execute_result"
    }
   ],
   "source": [
    "output_dir"
   ]
  },
  {
   "cell_type": "code",
   "execution_count": 136,
   "metadata": {
    "id": "GASMY3dks-AZ",
    "tags": []
   },
   "outputs": [
    {
     "name": "stdout",
     "output_type": "stream",
     "text": [
      "LogisticRegression\n",
      "LGBMClassifier\n",
      "done\n"
     ]
    },
    {
     "data": {
      "image/png": "[encoded data removed]",
      "text/plain": [
       "<Figure size 400x400 with 2 Axes>"
      ]
     },
     "metadata": {},
     "output_type": "display_data"
    },
    {
     "data": {
      "image/png": "[encoded data removed]",
      "text/plain": [
       "<Figure size 400x400 with 2 Axes>"
      ]
     },
     "metadata": {},
     "output_type": "display_data"
    }
   ],
   "source": [
    "import metrics_report\n",
    "\n",
    "from importlib import reload\n",
    "reload(metrics_report)\n",
    "\n",
    "\n",
    "# scoring: https://scikit-learn.org/stable/modules/model_evaluation.html\n",
    "\n",
    "results = {}\n",
    "for model_name, pipe in pipelines.items():\n",
    "    print(model_name)\n",
    "    output_dir_i = output_dir+model_name+'/'\n",
    "    os.makedirs(output_dir_i,exist_ok=True)\n",
    "    # y_pred = pipe.fit(X_train, y_train) #train\n",
    "    y_pred_proba = pipe.predict_proba(X_val)\n",
    "\n",
    "    y_pred_proba_1 = y_pred_proba[:,1]\n",
    "    y_pred = [np.argmax(n) for n in y_pred_proba]\n",
    "    clf_report_sklearn = classification_report(y_val,y_pred, output_dict=False) #evaluate #different than the output of cross_validate() above.\n",
    "    cm_df_meaning, cm_df, cm_df_norm = metrics_report.cm(y_val, y_pred, output_dir_i, model_name, ts, save=True)\n",
    "    clf_report = metrics_report.classification_report(y_val, y_pred,y_pred_proba_1, output_dir_i, model_name, ts)\n",
    "    # scores = cross_validate(pipe, X, y, scoring=['f1','precision', 'recall'], cv=cv, return_train_score=False) #train and evaluate    \n",
    "    results[model_name] = {\n",
    "        'clf_report': clf_report,\n",
    "        'cm_df_meaning': cm_df_meaning,\n",
    "        'cm_df': cm_df,\n",
    "        'cm_df_norm': cm_df_norm,\n",
    "        'clf_report_sklearn': clf_report_sklearn\n",
    "\n",
    "    }\n",
    "\n",
    "print('done')\n",
    "\n",
    "        "
   ]
  },
  {
   "cell_type": "code",
   "execution_count": null,
   "metadata": {},
   "outputs": [],
   "source": []
  },
  {
   "cell_type": "code",
   "execution_count": 137,
   "metadata": {
    "tags": []
   },
   "outputs": [
    {
     "data": {
      "text/plain": [
       "dict_items([('LogisticRegression', Pipeline(steps=[('vectorizer',\n",
       "                 TfidfVectorizer(max_df=0.9, min_df=3, ngram_range=(1, 2),\n",
       "                                 stop_words='english')),\n",
       "                ('balancer', SMOTE(random_state=123)),\n",
       "                ('model', LogisticRegression())])), ('LGBMClassifier', Pipeline(steps=[('vectorizer',\n",
       "                 TfidfVectorizer(max_df=0.9, min_df=3, ngram_range=(1, 2),\n",
       "                                 stop_words='english')),\n",
       "                ('balancer', SMOTE(random_state=123)),\n",
       "                ('model', LGBMClassifier())]))])"
      ]
     },
     "execution_count": 137,
     "metadata": {},
     "output_type": "execute_result"
    }
   ],
   "source": [
    "pipelines.items()"
   ]
  },
  {
   "cell_type": "code",
   "execution_count": 141,
   "metadata": {
    "tags": []
   },
   "outputs": [
    {
     "name": "stdout",
     "output_type": "stream",
     "text": [
      "              precision    recall  f1-score   support\n",
      "\n",
      "         0.0       0.95      0.89      0.92       638\n",
      "         1.0       0.23      0.41      0.30        54\n",
      "\n",
      "    accuracy                           0.85       692\n",
      "   macro avg       0.59      0.65      0.61       692\n",
      "weighted avg       0.89      0.85      0.87       692\n",
      "\n"
     ]
    }
   ],
   "source": [
    "print(results['LogisticRegression'].get('clf_report_sklearn'))"
   ]
  },
  {
   "cell_type": "code",
   "execution_count": 64,
   "metadata": {
    "tags": []
   },
   "outputs": [
    {
     "ename": "KeyError",
     "evalue": "'SVC'",
     "output_type": "error",
     "traceback": [
      "\u001b[0;31m---------------------------------------------------------------------------\u001b[0m",
      "\u001b[0;31mKeyError\u001b[0m                                  Traceback (most recent call last)",
      "\u001b[0;32m/var/folders/6f/x95fldf13xn_k25tybdzgtqw0000gn/T/ipykernel_91033/1220888906.py\u001b[0m in \u001b[0;36m<module>\u001b[0;34m\u001b[0m\n\u001b[0;32m----> 1\u001b[0;31m \u001b[0mresults\u001b[0m\u001b[0;34m[\u001b[0m\u001b[0;34m'SVC'\u001b[0m\u001b[0;34m]\u001b[0m\u001b[0;34m.\u001b[0m\u001b[0mget\u001b[0m\u001b[0;34m(\u001b[0m\u001b[0;34m'clf_report'\u001b[0m\u001b[0;34m)\u001b[0m\u001b[0;34m\u001b[0m\u001b[0;34m\u001b[0m\u001b[0m\n\u001b[0m",
      "\u001b[0;31mKeyError\u001b[0m: 'SVC'"
     ]
    }
   ],
   "source": [
    "results['SVC'].get('clf_report')\n"
   ]
  },
  {
   "cell_type": "code",
   "execution_count": null,
   "metadata": {},
   "outputs": [],
   "source": []
  },
  {
   "cell_type": "code",
   "execution_count": 54,
   "metadata": {
    "colab": {
     "base_uri": "https://localhost:8080/",
     "height": 112
    },
    "id": "Y_hMOiuJs4-r",
    "outputId": "09f52bcd-3497-48d3-9d50-63acabf825b2"
   },
   "outputs": [
    {
     "data": {
      "text/html": [
       "\n",
       "  <div id=\"df-096db7d6-4959-4e84-8daa-a604f7e17fc2\">\n",
       "    <div class=\"colab-df-container\">\n",
       "      <div>\n",
       "<style scoped>\n",
       "    .dataframe tbody tr th:only-of-type {\n",
       "        vertical-align: middle;\n",
       "    }\n",
       "\n",
       "    .dataframe tbody tr th {\n",
       "        vertical-align: top;\n",
       "    }\n",
       "\n",
       "    .dataframe thead th {\n",
       "        text-align: right;\n",
       "    }\n",
       "</style>\n",
       "<table border=\"1\" class=\"dataframe\">\n",
       "  <thead>\n",
       "    <tr style=\"text-align: right;\">\n",
       "      <th></th>\n",
       "      <th>f1-score</th>\n",
       "      <th>precision</th>\n",
       "      <th>recall</th>\n",
       "    </tr>\n",
       "  </thead>\n",
       "  <tbody>\n",
       "    <tr>\n",
       "      <th>LogisticRegression</th>\n",
       "      <td>0.98</td>\n",
       "      <td>0.98</td>\n",
       "      <td>0.98</td>\n",
       "    </tr>\n",
       "    <tr>\n",
       "      <th>SVC</th>\n",
       "      <td>0.98</td>\n",
       "      <td>0.98</td>\n",
       "      <td>0.98</td>\n",
       "    </tr>\n",
       "  </tbody>\n",
       "</table>\n",
       "</div>\n",
       "      <button class=\"colab-df-convert\" onclick=\"convertToInteractive('df-096db7d6-4959-4e84-8daa-a604f7e17fc2')\"\n",
       "              title=\"Convert this dataframe to an interactive table.\"\n",
       "              style=\"display:none;\">\n",
       "        \n",
       "  <svg xmlns=\"http://www.w3.org/2000/svg\" height=\"24px\"viewBox=\"0 0 24 24\"\n",
       "       width=\"24px\">\n",
       "    <path d=\"M0 0h24v24H0V0z\" fill=\"none\"/>\n",
       "    <path d=\"M18.56 5.44l.94 2.06.94-2.06 2.06-.94-2.06-.94-.94-2.06-.94 2.06-2.06.94zm-11 1L8.5 8.5l.94-2.06 2.06-.94-2.06-.94L8.5 2.5l-.94 2.06-2.06.94zm10 10l.94 2.06.94-2.06 2.06-.94-2.06-.94-.94-2.06-.94 2.06-2.06.94z\"/><path d=\"M17.41 7.96l-1.37-1.37c-.4-.4-.92-.59-1.43-.59-.52 0-1.04.2-1.43.59L10.3 9.45l-7.72 7.72c-.78.78-.78 2.05 0 2.83L4 21.41c.39.39.9.59 1.41.59.51 0 1.02-.2 1.41-.59l7.78-7.78 2.81-2.81c.8-.78.8-2.07 0-2.86zM5.41 20L4 18.59l7.72-7.72 1.47 1.35L5.41 20z\"/>\n",
       "  </svg>\n",
       "      </button>\n",
       "      \n",
       "  <style>\n",
       "    .colab-df-container {\n",
       "      display:flex;\n",
       "      flex-wrap:wrap;\n",
       "      gap: 12px;\n",
       "    }\n",
       "\n",
       "    .colab-df-convert {\n",
       "      background-color: #E8F0FE;\n",
       "      border: none;\n",
       "      border-radius: 50%;\n",
       "      cursor: pointer;\n",
       "      display: none;\n",
       "      fill: #1967D2;\n",
       "      height: 32px;\n",
       "      padding: 0 0 0 0;\n",
       "      width: 32px;\n",
       "    }\n",
       "\n",
       "    .colab-df-convert:hover {\n",
       "      background-color: #E2EBFA;\n",
       "      box-shadow: 0px 1px 2px rgba(60, 64, 67, 0.3), 0px 1px 3px 1px rgba(60, 64, 67, 0.15);\n",
       "      fill: #174EA6;\n",
       "    }\n",
       "\n",
       "    [theme=dark] .colab-df-convert {\n",
       "      background-color: #3B4455;\n",
       "      fill: #D2E3FC;\n",
       "    }\n",
       "\n",
       "    [theme=dark] .colab-df-convert:hover {\n",
       "      background-color: #434B5C;\n",
       "      box-shadow: 0px 1px 3px 1px rgba(0, 0, 0, 0.15);\n",
       "      filter: drop-shadow(0px 1px 2px rgba(0, 0, 0, 0.3));\n",
       "      fill: #FFFFFF;\n",
       "    }\n",
       "  </style>\n",
       "\n",
       "      <script>\n",
       "        const buttonEl =\n",
       "          document.querySelector('#df-096db7d6-4959-4e84-8daa-a604f7e17fc2 button.colab-df-convert');\n",
       "        buttonEl.style.display =\n",
       "          google.colab.kernel.accessAllowed ? 'block' : 'none';\n",
       "\n",
       "        async function convertToInteractive(key) {\n",
       "          const element = document.querySelector('#df-096db7d6-4959-4e84-8daa-a604f7e17fc2');\n",
       "          const dataTable =\n",
       "            await google.colab.kernel.invokeFunction('convertToInteractive',\n",
       "                                                     [key], {});\n",
       "          if (!dataTable) return;\n",
       "\n",
       "          const docLinkHtml = 'Like what you see? Visit the ' +\n",
       "            '<a target=\"_blank\" href=https://colab.research.google.com/notebooks/data_table.ipynb>data table notebook</a>'\n",
       "            + ' to learn more about interactive tables.';\n",
       "          element.innerHTML = '';\n",
       "          dataTable['output_type'] = 'display_data';\n",
       "          await google.colab.output.renderOutput(dataTable, element);\n",
       "          const docLink = document.createElement('div');\n",
       "          docLink.innerHTML = docLinkHtml;\n",
       "          element.appendChild(docLink);\n",
       "        }\n",
       "      </script>\n",
       "    </div>\n",
       "  </div>\n",
       "  "
      ],
      "text/plain": [
       "                   f1-score precision recall\n",
       "LogisticRegression     0.98      0.98   0.98\n",
       "SVC                    0.98      0.98   0.98"
      ]
     },
     "execution_count": 54,
     "metadata": {},
     "output_type": "execute_result"
    }
   ],
   "source": [
    "score_names = ['f1-score','precision', 'recall']\n",
    "df_results = pd.DataFrame(np.zeros(((len(results.keys())),len(score_names))),index = results.keys(), columns = score_names) # fill with zeros\n",
    "\n",
    "for model_name in results.keys():\n",
    "    scores = results.get(model_name)\n",
    "    if cv_or_traintest == 'cv':\n",
    "      for s in score_names:\n",
    "        if s == 'f1-score':\n",
    "          s = 'f1' # this is how it is saved in cross_validation()\n",
    "        mean_score = np.round(np.mean(scores.get(s)),2)\n",
    "        sd = np.round(np.std(scores.get(s)),2)\n",
    "        df_results.loc[model_name,s] = f'{mean_score} ({sd})'\n",
    "    elif cv_or_traintest == 'traintest':\n",
    "      for s in score_names:\n",
    "        score = np.round(scores.get('macro avg').get(s),2)\n",
    "        df_results.loc[model_name,s] = f'{score}'\n",
    "\n",
    "df_results\n"
   ]
  },
  {
   "cell_type": "markdown",
   "metadata": {
    "id": "DrrNtHZ2t8nY"
   },
   "source": [
    "# Get important features for any pipeline or feature union\n",
    "https://towardsdatascience.com/how-to-get-feature-importances-from-any-sklearn-pipeline-167a19f1214\n"
   ]
  },
  {
   "cell_type": "code",
   "execution_count": 9,
   "metadata": {
    "colab": {
     "base_uri": "https://localhost:8080/",
     "height": 126
    },
    "id": "czXvQ6Jyt8xd",
    "outputId": "b0c7c763-be1b-4899-813d-de5b7e9ce981"
   },
   "outputs": [
    {
     "data": {
      "text/html": [
       "<style>#sk-container-id-3 {color: black;background-color: white;}#sk-container-id-3 pre{padding: 0;}#sk-container-id-3 div.sk-toggleable {background-color: white;}#sk-container-id-3 label.sk-toggleable__label {cursor: pointer;display: block;width: 100%;margin-bottom: 0;padding: 0.3em;box-sizing: border-box;text-align: center;}#sk-container-id-3 label.sk-toggleable__label-arrow:before {content: \"▸\";float: left;margin-right: 0.25em;color: #696969;}#sk-container-id-3 label.sk-toggleable__label-arrow:hover:before {color: black;}#sk-container-id-3 div.sk-estimator:hover label.sk-toggleable__label-arrow:before {color: black;}#sk-container-id-3 div.sk-toggleable__content {max-height: 0;max-width: 0;overflow: hidden;text-align: left;background-color: #f0f8ff;}#sk-container-id-3 div.sk-toggleable__content pre {margin: 0.2em;color: black;border-radius: 0.25em;background-color: #f0f8ff;}#sk-container-id-3 input.sk-toggleable__control:checked~div.sk-toggleable__content {max-height: 200px;max-width: 100%;overflow: auto;}#sk-container-id-3 input.sk-toggleable__control:checked~label.sk-toggleable__label-arrow:before {content: \"▾\";}#sk-container-id-3 div.sk-estimator input.sk-toggleable__control:checked~label.sk-toggleable__label {background-color: #d4ebff;}#sk-container-id-3 div.sk-label input.sk-toggleable__control:checked~label.sk-toggleable__label {background-color: #d4ebff;}#sk-container-id-3 input.sk-hidden--visually {border: 0;clip: rect(1px 1px 1px 1px);clip: rect(1px, 1px, 1px, 1px);height: 1px;margin: -1px;overflow: hidden;padding: 0;position: absolute;width: 1px;}#sk-container-id-3 div.sk-estimator {font-family: monospace;background-color: #f0f8ff;border: 1px dotted black;border-radius: 0.25em;box-sizing: border-box;margin-bottom: 0.5em;}#sk-container-id-3 div.sk-estimator:hover {background-color: #d4ebff;}#sk-container-id-3 div.sk-parallel-item::after {content: \"\";width: 100%;border-bottom: 1px solid gray;flex-grow: 1;}#sk-container-id-3 div.sk-label:hover label.sk-toggleable__label {background-color: #d4ebff;}#sk-container-id-3 div.sk-serial::before {content: \"\";position: absolute;border-left: 1px solid gray;box-sizing: border-box;top: 0;bottom: 0;left: 50%;z-index: 0;}#sk-container-id-3 div.sk-serial {display: flex;flex-direction: column;align-items: center;background-color: white;padding-right: 0.2em;padding-left: 0.2em;position: relative;}#sk-container-id-3 div.sk-item {position: relative;z-index: 1;}#sk-container-id-3 div.sk-parallel {display: flex;align-items: stretch;justify-content: center;background-color: white;position: relative;}#sk-container-id-3 div.sk-item::before, #sk-container-id-3 div.sk-parallel-item::before {content: \"\";position: absolute;border-left: 1px solid gray;box-sizing: border-box;top: 0;bottom: 0;left: 50%;z-index: -1;}#sk-container-id-3 div.sk-parallel-item {display: flex;flex-direction: column;z-index: 1;position: relative;background-color: white;}#sk-container-id-3 div.sk-parallel-item:first-child::after {align-self: flex-end;width: 50%;}#sk-container-id-3 div.sk-parallel-item:last-child::after {align-self: flex-start;width: 50%;}#sk-container-id-3 div.sk-parallel-item:only-child::after {width: 0;}#sk-container-id-3 div.sk-dashed-wrapped {border: 1px dashed gray;margin: 0 0.4em 0.5em 0.4em;box-sizing: border-box;padding-bottom: 0.4em;background-color: white;}#sk-container-id-3 div.sk-label label {font-family: monospace;font-weight: bold;display: inline-block;line-height: 1.2em;}#sk-container-id-3 div.sk-label-container {text-align: center;}#sk-container-id-3 div.sk-container {/* jupyter's `normalize.less` sets `[hidden] { display: none; }` but bootstrap.min.css set `[hidden] { display: none !important; }` so we also need the `!important` here to be able to override the default hidden behavior on the sphinx rendered scikit-learn.org. See: https://github.com/scikit-learn/scikit-learn/issues/21755 */display: inline-block !important;position: relative;}#sk-container-id-3 div.sk-text-repr-fallback {display: none;}</style><div id=\"sk-container-id-3\" class=\"sk-top-container\"><div class=\"sk-text-repr-fallback\"><pre>Pipeline(steps=[(&#x27;vectorizer&#x27;,\n",
       "                 TfidfVectorizer(ngram_range=(1, 2), stop_words=&#x27;english&#x27;)),\n",
       "                (&#x27;model&#x27;, LogisticRegression(class_weight=&#x27;balanced&#x27;))])</pre><b>In a Jupyter environment, please rerun this cell to show the HTML representation or trust the notebook. <br />On GitHub, the HTML representation is unable to render, please try loading this page with nbviewer.org.</b></div><div class=\"sk-container\" hidden><div class=\"sk-item sk-dashed-wrapped\"><div class=\"sk-label-container\"><div class=\"sk-label sk-toggleable\"><input class=\"sk-toggleable__control sk-hidden--visually\" id=\"sk-estimator-id-7\" type=\"checkbox\" ><label for=\"sk-estimator-id-7\" class=\"sk-toggleable__label sk-toggleable__label-arrow\">Pipeline</label><div class=\"sk-toggleable__content\"><pre>Pipeline(steps=[(&#x27;vectorizer&#x27;,\n",
       "                 TfidfVectorizer(ngram_range=(1, 2), stop_words=&#x27;english&#x27;)),\n",
       "                (&#x27;model&#x27;, LogisticRegression(class_weight=&#x27;balanced&#x27;))])</pre></div></div></div><div class=\"sk-serial\"><div class=\"sk-item\"><div class=\"sk-estimator sk-toggleable\"><input class=\"sk-toggleable__control sk-hidden--visually\" id=\"sk-estimator-id-8\" type=\"checkbox\" ><label for=\"sk-estimator-id-8\" class=\"sk-toggleable__label sk-toggleable__label-arrow\">TfidfVectorizer</label><div class=\"sk-toggleable__content\"><pre>TfidfVectorizer(ngram_range=(1, 2), stop_words=&#x27;english&#x27;)</pre></div></div></div><div class=\"sk-item\"><div class=\"sk-estimator sk-toggleable\"><input class=\"sk-toggleable__control sk-hidden--visually\" id=\"sk-estimator-id-9\" type=\"checkbox\" ><label for=\"sk-estimator-id-9\" class=\"sk-toggleable__label sk-toggleable__label-arrow\">LogisticRegression</label><div class=\"sk-toggleable__content\"><pre>LogisticRegression(class_weight=&#x27;balanced&#x27;)</pre></div></div></div></div></div></div></div>"
      ],
      "text/plain": [
       "Pipeline(steps=[('vectorizer',\n",
       "                 TfidfVectorizer(ngram_range=(1, 2), stop_words='english')),\n",
       "                ('model', LogisticRegression(class_weight='balanced'))])"
      ]
     },
     "execution_count": 9,
     "metadata": {},
     "output_type": "execute_result"
    }
   ],
   "source": [
    "# Fit a specific model to entire data\n",
    "\n",
    "import matplotlib.pyplot as plt\n",
    "import seaborn as sns\n",
    "\n",
    "pipe = Pipeline(\n",
    "    [\n",
    "        (\"vectorizer\", vectorizer),\n",
    "        (\"model\", LogisticRegression(class_weight='balanced')),\n",
    "    ]\n",
    "    )\n",
    "\n",
    "pipe.fit(X,y)\n"
   ]
  },
  {
   "cell_type": "code",
   "execution_count": 19,
   "metadata": {
    "colab": {
     "base_uri": "https://localhost:8080/",
     "height": 607
    },
    "id": "ywAJK8waANDk",
    "outputId": "def9e3be-1f8c-4159-dad2-f26d630dd009"
   },
   "outputs": [
    {
     "data": {
      "image/png": "[encoded data removed]",
      "text/plain": [
       "<Figure size 350x600 with 1 Axes>"
      ]
     },
     "metadata": {},
     "output_type": "display_data"
    }
   ],
   "source": [
    "top_k = 40\n",
    "\n",
    "\n",
    "feature_names = pipe.named_steps[\"vectorizer\"].get_feature_names_out()\n",
    "\n",
    "# Get the coefficients of each feature\n",
    "coefs = pipe.named_steps[\"model\"].coef_.flatten()\n",
    "\n",
    "# Visualize feature importances\n",
    "# Sort features by absolute value\n",
    "df = pd.DataFrame(zip(feature_names, coefs), columns=[\"feature\", \"value\"])\n",
    "df[\"abs_value\"] = df[\"value\"].apply(lambda x: abs(x))\n",
    "df[\"colors\"] = df[\"value\"].apply(lambda x: \"orange\" if x > 0 else \"dodgerblue\")\n",
    "df = df.sort_values(\"abs_value\", ascending=False)\n",
    "\n",
    "fig, ax = plt.subplots(1, 1, figsize=(3.5, 6))\n",
    "sns.barplot(x=\"value\",\n",
    "            y=\"feature\",\n",
    "            data=df.head(top_k),\n",
    "           palette=df.head(top_k)[\"colors\"])\n",
    "ax.set_yticklabels(ax.get_yticklabels(), rotation=0, fontsize=10)\n",
    "ax.set_title(f\"Top {top_k} Features\", fontsize=14)\n",
    "ax.set_xlabel(\"Coef\", fontsize=12) # coeficient from linear model\n",
    "ax.set_ylabel(\"Feature Name\", fontsize=12)\n",
    "plt.tight_layout()\n",
    "# plt.savefig(output_dir+f'top_{top_k}_features_{y_name}.png', dpi=300)"
   ]
  }
 ],
 "metadata": {
  "colab": {
   "authorship_tag": "ABX9TyOHhaTvWr/5SrxlQNJNr+NV",
   "include_colab_link": true,
   "provenance": []
  },
  "kernelspec": {
   "display_name": "Python 3 (ipykernel)",
   "language": "python",
   "name": "python3"
  },
  "language_info": {
   "codemirror_mode": {
    "name": "ipython",
    "version": 3
   },
   "file_extension": ".py",
   "mimetype": "text/x-python",
   "name": "python",
   "nbconvert_exporter": "python",
   "pygments_lexer": "ipython3",
   "version": "3.7.12"
  }
 },
 "nbformat": 4,
 "nbformat_minor": 4
}
