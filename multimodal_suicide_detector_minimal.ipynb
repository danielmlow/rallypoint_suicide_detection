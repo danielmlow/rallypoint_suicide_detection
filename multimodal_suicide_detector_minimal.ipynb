{
 "cells": [
  {
   "cell_type": "markdown",
   "metadata": {
    "colab_type": "text",
    "id": "view-in-github"
   },
   "source": [
    "<a href=\"https://colab.research.google.com/github/danielmlow/rallypoint_suicide_detection/blob/main/multimodal_suicide_detector_minimal.ipynb\" target=\"_parent\"><img src=\"https://colab.research.google.com/assets/colab-badge.svg\" alt=\"Open In Colab\"/></a>"
   ]
  },
  {
   "cell_type": "markdown",
   "metadata": {
    "id": "gKArdyL0YY0t"
   },
   "source": [
    "# Model to detect suicidal posts from non-suicidal posts on RallyPoint\n",
    "\n",
    "\n",
    "### Important: activate GPU in Runtime/Change runtime type, install packages, restart runtime.\n",
    "\n",
    "### Authors\n",
    "- Before 2020: Leo (Amazon) and Erik Kastman (RallyPoint and Harvard) built and deployed first models. \n",
    "- 2020: Noah re-did models, extended model to include metadata (multimodal) and used a larger dataset. \n",
    "- October, 2021: Richard Kuzma reproduced results and fixed dataset by removing duplicate posts. \n",
    "- May, 2022: Daniel Low made this minimal script for deployment\n",
    "\n",
    "\n",
    "\n",
    "\n",
    "\n",
    "\n"
   ]
  },
  {
   "cell_type": "code",
   "execution_count": null,
   "metadata": {},
   "outputs": [],
   "source": []
  },
  {
   "cell_type": "code",
   "execution_count": 14,
   "metadata": {},
   "outputs": [],
   "source": [
    "!pip install -q transformers"
   ]
  },
  {
   "cell_type": "code",
   "execution_count": 18,
   "metadata": {},
   "outputs": [],
   "source": [
    "!pip install -q multimodal-transformers"
   ]
  },
  {
   "cell_type": "code",
   "execution_count": 13,
   "metadata": {},
   "outputs": [
    {
     "name": "stdout",
     "output_type": "stream",
     "text": [
      "\u001b[31mERROR: pip's dependency resolver does not currently take into account all the packages that are installed. This behaviour is the source of the following dependency conflicts.\n",
      "multimodal-transformers 0.2a0 requires transformers>=4.26.1, but you have transformers 4.19.2 which is incompatible.\u001b[0m\u001b[31m\n",
      "\u001b[0m"
     ]
    }
   ],
   "source": [
    "!pip install -q transformers==4.19.2\n"
   ]
  },
  {
   "cell_type": "code",
   "execution_count": 12,
   "metadata": {},
   "outputs": [],
   "source": [
    "# !pip uninstall -y multimodal-transformers"
   ]
  },
  {
   "cell_type": "code",
   "execution_count": 11,
   "metadata": {},
   "outputs": [
    {
     "name": "stdout",
     "output_type": "stream",
     "text": [
      "Collecting multimodal-transformers\n",
      "  Using cached multimodal_transformers-0.2a0-py3-none-any.whl (22 kB)\n",
      "Requirement already satisfied: pytest~=7.2.2 in /Users/danielmlow/miniconda3/envs/rallypoint_suicide_detection/lib/python3.8/site-packages (from multimodal-transformers) (7.2.2)\n",
      "Requirement already satisfied: sacremoses~=0.0.53 in /Users/danielmlow/miniconda3/envs/rallypoint_suicide_detection/lib/python3.8/site-packages (from multimodal-transformers) (0.0.53)\n",
      "Requirement already satisfied: tqdm~=4.64.1 in /Users/danielmlow/miniconda3/envs/rallypoint_suicide_detection/lib/python3.8/site-packages (from multimodal-transformers) (4.64.1)\n",
      "Collecting transformers>=4.26.1\n",
      "  Downloading transformers-4.29.2-py3-none-any.whl (7.1 MB)\n",
      "\u001b[2K     \u001b[90m━━━━━━━━━━━━━━━━━━━━━━━━━━━━━━━━━━━━━━━━\u001b[0m \u001b[32m7.1/7.1 MB\u001b[0m \u001b[31m12.0 MB/s\u001b[0m eta \u001b[36m0:00:00\u001b[0m00:01\u001b[0m00:01\u001b[0m\n",
      "\u001b[?25hRequirement already satisfied: scipy~=1.7.3 in /Users/danielmlow/miniconda3/envs/rallypoint_suicide_detection/lib/python3.8/site-packages (from multimodal-transformers) (1.7.3)\n",
      "Requirement already satisfied: pandas~=1.3.5 in /Users/danielmlow/miniconda3/envs/rallypoint_suicide_detection/lib/python3.8/site-packages (from multimodal-transformers) (1.3.5)\n",
      "Requirement already satisfied: scikit-learn~=1.0.2 in /Users/danielmlow/miniconda3/envs/rallypoint_suicide_detection/lib/python3.8/site-packages (from multimodal-transformers) (1.0.2)\n",
      "Requirement already satisfied: networkx~=2.6.3 in /Users/danielmlow/miniconda3/envs/rallypoint_suicide_detection/lib/python3.8/site-packages (from multimodal-transformers) (2.6.3)\n",
      "Requirement already satisfied: torch>=1.13.1 in /Users/danielmlow/miniconda3/envs/rallypoint_suicide_detection/lib/python3.8/site-packages (from multimodal-transformers) (1.13.1)\n",
      "Requirement already satisfied: numpy~=1.21.6 in /Users/danielmlow/miniconda3/envs/rallypoint_suicide_detection/lib/python3.8/site-packages (from multimodal-transformers) (1.21.6)\n",
      "Requirement already satisfied: pytz>=2017.3 in /Users/danielmlow/miniconda3/envs/rallypoint_suicide_detection/lib/python3.8/site-packages (from pandas~=1.3.5->multimodal-transformers) (2022.7)\n",
      "Requirement already satisfied: python-dateutil>=2.7.3 in /Users/danielmlow/miniconda3/envs/rallypoint_suicide_detection/lib/python3.8/site-packages (from pandas~=1.3.5->multimodal-transformers) (2.8.2)\n",
      "Requirement already satisfied: tomli>=1.0.0 in /Users/danielmlow/miniconda3/envs/rallypoint_suicide_detection/lib/python3.8/site-packages (from pytest~=7.2.2->multimodal-transformers) (2.0.1)\n",
      "Requirement already satisfied: attrs>=19.2.0 in /Users/danielmlow/miniconda3/envs/rallypoint_suicide_detection/lib/python3.8/site-packages (from pytest~=7.2.2->multimodal-transformers) (22.2.0)\n",
      "Requirement already satisfied: packaging in /Users/danielmlow/miniconda3/envs/rallypoint_suicide_detection/lib/python3.8/site-packages (from pytest~=7.2.2->multimodal-transformers) (23.0)\n",
      "Requirement already satisfied: iniconfig in /Users/danielmlow/miniconda3/envs/rallypoint_suicide_detection/lib/python3.8/site-packages (from pytest~=7.2.2->multimodal-transformers) (2.0.0)\n",
      "Requirement already satisfied: exceptiongroup>=1.0.0rc8 in /Users/danielmlow/miniconda3/envs/rallypoint_suicide_detection/lib/python3.8/site-packages (from pytest~=7.2.2->multimodal-transformers) (1.1.1)\n",
      "Requirement already satisfied: pluggy<2.0,>=0.12 in /Users/danielmlow/miniconda3/envs/rallypoint_suicide_detection/lib/python3.8/site-packages (from pytest~=7.2.2->multimodal-transformers) (1.0.0)\n",
      "Requirement already satisfied: click in /Users/danielmlow/miniconda3/envs/rallypoint_suicide_detection/lib/python3.8/site-packages (from sacremoses~=0.0.53->multimodal-transformers) (8.1.3)\n",
      "Requirement already satisfied: joblib in /Users/danielmlow/miniconda3/envs/rallypoint_suicide_detection/lib/python3.8/site-packages (from sacremoses~=0.0.53->multimodal-transformers) (1.2.0)\n",
      "Requirement already satisfied: regex in /Users/danielmlow/miniconda3/envs/rallypoint_suicide_detection/lib/python3.8/site-packages (from sacremoses~=0.0.53->multimodal-transformers) (2022.10.31)\n",
      "Requirement already satisfied: six in /Users/danielmlow/miniconda3/envs/rallypoint_suicide_detection/lib/python3.8/site-packages (from sacremoses~=0.0.53->multimodal-transformers) (1.16.0)\n",
      "Requirement already satisfied: threadpoolctl>=2.0.0 in /Users/danielmlow/miniconda3/envs/rallypoint_suicide_detection/lib/python3.8/site-packages (from scikit-learn~=1.0.2->multimodal-transformers) (3.1.0)\n",
      "Requirement already satisfied: typing-extensions in /Users/danielmlow/miniconda3/envs/rallypoint_suicide_detection/lib/python3.8/site-packages (from torch>=1.13.1->multimodal-transformers) (4.4.0)\n",
      "Requirement already satisfied: filelock in /Users/danielmlow/miniconda3/envs/rallypoint_suicide_detection/lib/python3.8/site-packages (from transformers>=4.26.1->multimodal-transformers) (3.9.0)\n",
      "Requirement already satisfied: requests in /Users/danielmlow/miniconda3/envs/rallypoint_suicide_detection/lib/python3.8/site-packages (from transformers>=4.26.1->multimodal-transformers) (2.28.1)\n",
      "Requirement already satisfied: huggingface-hub<1.0,>=0.14.1 in /Users/danielmlow/miniconda3/envs/rallypoint_suicide_detection/lib/python3.8/site-packages (from transformers>=4.26.1->multimodal-transformers) (0.14.1)\n",
      "Requirement already satisfied: pyyaml>=5.1 in /Users/danielmlow/miniconda3/envs/rallypoint_suicide_detection/lib/python3.8/site-packages (from transformers>=4.26.1->multimodal-transformers) (6.0)\n",
      "Requirement already satisfied: tokenizers!=0.11.3,<0.14,>=0.11.1 in /Users/danielmlow/miniconda3/envs/rallypoint_suicide_detection/lib/python3.8/site-packages (from transformers>=4.26.1->multimodal-transformers) (0.12.1)\n",
      "Requirement already satisfied: fsspec in /Users/danielmlow/miniconda3/envs/rallypoint_suicide_detection/lib/python3.8/site-packages (from huggingface-hub<1.0,>=0.14.1->transformers>=4.26.1->multimodal-transformers) (2023.5.0)\n",
      "Requirement already satisfied: certifi>=2017.4.17 in /Users/danielmlow/miniconda3/envs/rallypoint_suicide_detection/lib/python3.8/site-packages (from requests->transformers>=4.26.1->multimodal-transformers) (2022.12.7)\n",
      "Requirement already satisfied: charset-normalizer<3,>=2 in /Users/danielmlow/miniconda3/envs/rallypoint_suicide_detection/lib/python3.8/site-packages (from requests->transformers>=4.26.1->multimodal-transformers) (2.1.1)\n",
      "Requirement already satisfied: idna<4,>=2.5 in /Users/danielmlow/miniconda3/envs/rallypoint_suicide_detection/lib/python3.8/site-packages (from requests->transformers>=4.26.1->multimodal-transformers) (3.4)\n",
      "Requirement already satisfied: urllib3<1.27,>=1.21.1 in /Users/danielmlow/miniconda3/envs/rallypoint_suicide_detection/lib/python3.8/site-packages (from requests->transformers>=4.26.1->multimodal-transformers) (1.26.14)\n",
      "Installing collected packages: transformers, multimodal-transformers\n",
      "  Attempting uninstall: transformers\n",
      "    Found existing installation: transformers 4.19.2\n",
      "    Uninstalling transformers-4.19.2:\n",
      "      Successfully uninstalled transformers-4.19.2\n",
      "Successfully installed multimodal-transformers-0.2a0 transformers-4.29.2\n"
     ]
    }
   ],
   "source": [
    "!pip install multimodal-transformers"
   ]
  },
  {
   "cell_type": "code",
   "execution_count": 2,
   "metadata": {},
   "outputs": [],
   "source": []
  },
  {
   "cell_type": "code",
   "execution_count": 7,
   "metadata": {
    "colab": {
     "base_uri": "https://localhost:8080/"
    },
    "id": "B52V5h0BZB95",
    "outputId": "1a8665d7-add5-422a-b499-4ce7f9edecbb"
   },
   "outputs": [
    {
     "name": "stdout",
     "output_type": "stream",
     "text": [
      "\u001b[31mERROR: pip's dependency resolver does not currently take into account all the packages that are installed. This behaviour is the source of the following dependency conflicts.\n",
      "sentence-transformers 2.2.2 requires transformers<5.0.0,>=4.6.0, but you have transformers 3.1.0 which is incompatible.\n",
      "flair 0.11.3 requires transformers>=4.0.0, but you have transformers 3.1.0 which is incompatible.\u001b[0m\u001b[31m\n",
      "\u001b[0m"
     ]
    }
   ],
   "source": [
    "!pip install -q multimodal-transformers==0.1.4a0"
   ]
  },
  {
   "cell_type": "code",
   "execution_count": 3,
   "metadata": {},
   "outputs": [
    {
     "name": "stdout",
     "output_type": "stream",
     "text": [
      "\u001b[31mERROR: pip's dependency resolver does not currently take into account all the packages that are installed. This behaviour is the source of the following dependency conflicts.\n",
      "sentence-transformers 2.2.2 requires transformers<5.0.0,>=4.6.0, but you have transformers 3.1.0 which is incompatible.\n",
      "flair 0.11.3 requires transformers>=4.0.0, but you have transformers 3.1.0 which is incompatible.\u001b[0m\u001b[31m\n",
      "\u001b[0m"
     ]
    }
   ],
   "source": [
    "!pip install -q multimodal-transformers==0.1.4a0"
   ]
  },
  {
   "cell_type": "code",
   "execution_count": 2,
   "metadata": {},
   "outputs": [
    {
     "ename": "ModuleNotFoundError",
     "evalue": "No module named 'multimodal_transformers'",
     "output_type": "error",
     "traceback": [
      "\u001b[0;31m---------------------------------------------------------------------------\u001b[0m",
      "\u001b[0;31mModuleNotFoundError\u001b[0m                       Traceback (most recent call last)",
      "\u001b[0;32m<ipython-input-2-dccd2dda2658>\u001b[0m in \u001b[0;36m<module>\u001b[0;34m\u001b[0m\n\u001b[0;32m----> 1\u001b[0;31m \u001b[0;32mimport\u001b[0m \u001b[0mmultimodal_transformers\u001b[0m\u001b[0;34m\u001b[0m\u001b[0;34m\u001b[0m\u001b[0m\n\u001b[0m",
      "\u001b[0;31mModuleNotFoundError\u001b[0m: No module named 'multimodal_transformers'"
     ]
    }
   ],
   "source": [
    "import multimodal_transformers"
   ]
  },
  {
   "cell_type": "code",
   "execution_count": 16,
   "metadata": {
    "id": "4aSbBmQwYY0w"
   },
   "outputs": [
    {
     "ename": "ModuleNotFoundError",
     "evalue": "No module named 'multimodal_transformers'",
     "output_type": "error",
     "traceback": [
      "\u001b[0;31m---------------------------------------------------------------------------\u001b[0m",
      "\u001b[0;31mModuleNotFoundError\u001b[0m                       Traceback (most recent call last)",
      "\u001b[0;32m<ipython-input-16-e13f420ddc02>\u001b[0m in \u001b[0;36m<module>\u001b[0;34m\u001b[0m\n\u001b[1;32m      5\u001b[0m \u001b[0;32mimport\u001b[0m \u001b[0mjson\u001b[0m\u001b[0;34m\u001b[0m\u001b[0;34m\u001b[0m\u001b[0m\n\u001b[1;32m      6\u001b[0m \u001b[0;32mimport\u001b[0m \u001b[0mtransformers\u001b[0m\u001b[0;34m\u001b[0m\u001b[0;34m\u001b[0m\u001b[0m\n\u001b[0;32m----> 7\u001b[0;31m \u001b[0;32mfrom\u001b[0m \u001b[0mmultimodal_transformers\u001b[0m\u001b[0;34m.\u001b[0m\u001b[0mdata\u001b[0m \u001b[0;32mimport\u001b[0m \u001b[0mload_data\u001b[0m \u001b[0;31m#was: from multimodal_toolkit.multimodal_transformers.data import load_data\u001b[0m\u001b[0;34m\u001b[0m\u001b[0;34m\u001b[0m\u001b[0m\n\u001b[0m\u001b[1;32m      8\u001b[0m \u001b[0;32mfrom\u001b[0m \u001b[0mmultimodal_transformers\u001b[0m\u001b[0;34m.\u001b[0m\u001b[0mmodel\u001b[0m \u001b[0;32mimport\u001b[0m \u001b[0mAutoModelWithTabular\u001b[0m \u001b[0;31m#was from multimodal_toolkit.multimodal_transformers.model import AutoModelWithTabular\u001b[0m\u001b[0;34m\u001b[0m\u001b[0;34m\u001b[0m\u001b[0m\n\u001b[1;32m      9\u001b[0m \u001b[0;32mfrom\u001b[0m \u001b[0mtransformers\u001b[0m \u001b[0;32mimport\u001b[0m \u001b[0mAutoConfig\u001b[0m\u001b[0;34m,\u001b[0m \u001b[0mAutoTokenizer\u001b[0m\u001b[0;34m,\u001b[0m \u001b[0mTrainer\u001b[0m\u001b[0;34m\u001b[0m\u001b[0;34m\u001b[0m\u001b[0m\n",
      "\u001b[0;31mModuleNotFoundError\u001b[0m: No module named 'multimodal_transformers'"
     ]
    }
   ],
   "source": [
    "import os\n",
    "import datetime\n",
    "import pandas as pd\n",
    "import numpy as np\n",
    "import json\n",
    "import transformers\n",
    "from multimodal_transformers.data import load_data #was: from multimodal_toolkit.multimodal_transformers.data import load_data\n",
    "from multimodal_transformers.model import AutoModelWithTabular #was from multimodal_toolkit.multimodal_transformers.model import AutoModelWithTabular\n",
    "from transformers import AutoConfig, AutoTokenizer, Trainer\n",
    "from sklearn.metrics import classification_report, confusion_matrix\n",
    "from sklearn.metrics import roc_auc_score, recall_score, f1_score, precision_score\n",
    "from scipy.special import softmax\n",
    "import matplotlib.pyplot as plt\n",
    "import seaborn as sns\n",
    "import datetime"
   ]
  },
  {
   "cell_type": "code",
   "execution_count": 5,
   "metadata": {
    "id": "2cSPiZdvYY0x"
   },
   "outputs": [],
   "source": [
    "import warnings\n",
    "warnings.filterwarnings(\"ignore\") #related to sklearn metrics"
   ]
  },
  {
   "cell_type": "code",
   "execution_count": 6,
   "metadata": {
    "colab": {
     "base_uri": "https://localhost:8080/"
    },
    "id": "lcoF6OyGeQ1U",
    "outputId": "8cbd9198-ddae-4133-b2c5-a7bcc5ff8e0e"
   },
   "outputs": [
    {
     "name": "stdout",
     "output_type": "stream",
     "text": [
      "Mounted at /content/drive\n"
     ]
    }
   ],
   "source": [
    "from google.colab import drive\n",
    "drive.mount('/content/drive')"
   ]
  },
  {
   "cell_type": "code",
   "execution_count": 7,
   "metadata": {
    "id": "4JDb_ofGYY0x"
   },
   "outputs": [],
   "source": [
    "input_dir = '/content/drive/MyDrive/datum/rallypoint_suicide_detection/data/input/' #link to access this directory: https://drive.google.com/drive/folders/1dDdSiYTgSTg8nTKph1wbpKsEwO39VyAR?usp=sharing\n",
    "output_dir = '/content/drive/MyDrive/datum/rallypoint_suicide_detection/data/output/'\n",
    "data_path = input_dir+'rp/' #comes from: Noah's Dropbox \"RallyPoint Milestone 6 Code/Model notebook/multimodal_toolkit/datasets/rp/\"\n",
    "path_to_checkpoint = input_dir + 'roberta_pretrained_meta_text_num(final)/pred_seed_2/' #comes from: Noah's Dropbox \"RallyPoint Milestone 6 Code/Model notebook/Multi-modal Toolkit/logs/\"\n",
    "save_outputs = False #results, plots\n",
    "config_name = \"rp_config(meta).json\"\n",
    "test_dataset_name = \"test.csv\""
   ]
  },
  {
   "cell_type": "markdown",
   "metadata": {
    "id": "CW7YJVS5YY00"
   },
   "source": [
    "\n",
    "# 1. Load Model"
   ]
  },
  {
   "cell_type": "code",
   "execution_count": 8,
   "metadata": {
    "id": "CcUB3OOpYY01"
   },
   "outputs": [],
   "source": [
    "# this took me 30 sec on Google Colab GPU\n",
    "tokenizer = AutoTokenizer.from_pretrained(path_to_checkpoint)\n",
    "config = AutoConfig.from_pretrained(path_to_checkpoint)\n",
    "model = AutoModelWithTabular.from_pretrained(path_to_checkpoint, config=config)\n",
    "\n",
    "trainer = Trainer(model=model)\n"
   ]
  },
  {
   "cell_type": "markdown",
   "metadata": {
    "id": "uswZfYuGYY00"
   },
   "source": [
    "# 2. Load test data"
   ]
  },
  {
   "cell_type": "code",
   "execution_count": 9,
   "metadata": {
    "colab": {
     "base_uri": "https://localhost:8080/",
     "height": 441
    },
    "id": "hDv-TolhYY0z",
    "outputId": "08f4b907-da42-40b9-f25e-48e52f0200ec"
   },
   "outputs": [
    {
     "data": {
      "text/html": [
       "\n",
       "  <div id=\"df-9d0b91ac-005b-4f0e-96ab-0245fdd908f6\">\n",
       "    <div class=\"colab-df-container\">\n",
       "      <div>\n",
       "<style scoped>\n",
       "    .dataframe tbody tr th:only-of-type {\n",
       "        vertical-align: middle;\n",
       "    }\n",
       "\n",
       "    .dataframe tbody tr th {\n",
       "        vertical-align: top;\n",
       "    }\n",
       "\n",
       "    .dataframe thead th {\n",
       "        text-align: right;\n",
       "    }\n",
       "</style>\n",
       "<table border=\"1\" class=\"dataframe\">\n",
       "  <thead>\n",
       "    <tr style=\"text-align: right;\">\n",
       "      <th></th>\n",
       "      <th>id</th>\n",
       "      <th>hash</th>\n",
       "      <th>content</th>\n",
       "      <th>label</th>\n",
       "      <th>dataset</th>\n",
       "      <th>reputation</th>\n",
       "      <th>contact_size</th>\n",
       "      <th>type</th>\n",
       "      <th>ancestry</th>\n",
       "      <th>tags</th>\n",
       "      <th>type_tag_content</th>\n",
       "    </tr>\n",
       "  </thead>\n",
       "  <tbody>\n",
       "    <tr>\n",
       "      <th>651</th>\n",
       "      <td>4548261.0</td>\n",
       "      <td>5a1820eed3230dccb1135b535db1684b</td>\n",
       "      <td>One of the problems for older veterans who com...</td>\n",
       "      <td>0.0</td>\n",
       "      <td>Set 3</td>\n",
       "      <td>0.081236</td>\n",
       "      <td>0.024348</td>\n",
       "      <td>0.0</td>\n",
       "      <td>4547524.0</td>\n",
       "      <td>[\"suicide\",\"mental health\",\"health\",\"caregiver\"]</td>\n",
       "      <td>type| comment tag| suicide mental health healt...</td>\n",
       "    </tr>\n",
       "    <tr>\n",
       "      <th>1124</th>\n",
       "      <td>1049790.0</td>\n",
       "      <td>88e8a96c7c5192b45e78d97a87641b7f</td>\n",
       "      <td>I like my 38 cal. revolver.</td>\n",
       "      <td>0.0</td>\n",
       "      <td>Set 1</td>\n",
       "      <td>0.093517</td>\n",
       "      <td>0.067501</td>\n",
       "      <td>0.0</td>\n",
       "      <td>1049787.0</td>\n",
       "      <td>[\"firearms and guns\",\"shooting\",\"self defense\"...</td>\n",
       "      <td>type| comment tag| firearms and guns shooting ...</td>\n",
       "    </tr>\n",
       "    <tr>\n",
       "      <th>1647</th>\n",
       "      <td>3576546.0</td>\n",
       "      <td>7dc5cc00e94103834bb6b2c00ca48598</td>\n",
       "      <td>Your quote - hard times - is sooo timely and t...</td>\n",
       "      <td>0.0</td>\n",
       "      <td>Set 3</td>\n",
       "      <td>0.059932</td>\n",
       "      <td>0.008166</td>\n",
       "      <td>0.0</td>\n",
       "      <td>3575147.0</td>\n",
       "      <td>[\"motivation\",\"inspiration\",\"friends\",\"faith\",...</td>\n",
       "      <td>type| comment tag| motivation inspiration frie...</td>\n",
       "    </tr>\n",
       "    <tr>\n",
       "      <th>405</th>\n",
       "      <td>5488379.0</td>\n",
       "      <td>637230fffce35b7897d9dd56ceaeda28</td>\n",
       "      <td>Composure or being calm, self-control, master ...</td>\n",
       "      <td>0.0</td>\n",
       "      <td>nock2000</td>\n",
       "      <td>0.012679</td>\n",
       "      <td>0.002248</td>\n",
       "      <td>0.0</td>\n",
       "      <td>5488183.0</td>\n",
       "      <td>[\"motivation\",\"inspiration\",\"leadership\",\"comm...</td>\n",
       "      <td>type| comment tag| motivation inspiration lead...</td>\n",
       "    </tr>\n",
       "    <tr>\n",
       "      <th>534</th>\n",
       "      <td>4039616.0</td>\n",
       "      <td>ebde0d8941f18659ef214ff7802ef9cc</td>\n",
       "      <td>If I did not carry a small .380, then most day...</td>\n",
       "      <td>0.0</td>\n",
       "      <td>Set 5</td>\n",
       "      <td>0.001183</td>\n",
       "      <td>0.002173</td>\n",
       "      <td>0.0</td>\n",
       "      <td>4038834.0</td>\n",
       "      <td>[\"handguns and pistols\",\"concealed carry\"]</td>\n",
       "      <td>type| comment tag| handguns and pistols concea...</td>\n",
       "    </tr>\n",
       "  </tbody>\n",
       "</table>\n",
       "</div>\n",
       "      <button class=\"colab-df-convert\" onclick=\"convertToInteractive('df-9d0b91ac-005b-4f0e-96ab-0245fdd908f6')\"\n",
       "              title=\"Convert this dataframe to an interactive table.\"\n",
       "              style=\"display:none;\">\n",
       "        \n",
       "  <svg xmlns=\"http://www.w3.org/2000/svg\" height=\"24px\"viewBox=\"0 0 24 24\"\n",
       "       width=\"24px\">\n",
       "    <path d=\"M0 0h24v24H0V0z\" fill=\"none\"/>\n",
       "    <path d=\"M18.56 5.44l.94 2.06.94-2.06 2.06-.94-2.06-.94-.94-2.06-.94 2.06-2.06.94zm-11 1L8.5 8.5l.94-2.06 2.06-.94-2.06-.94L8.5 2.5l-.94 2.06-2.06.94zm10 10l.94 2.06.94-2.06 2.06-.94-2.06-.94-.94-2.06-.94 2.06-2.06.94z\"/><path d=\"M17.41 7.96l-1.37-1.37c-.4-.4-.92-.59-1.43-.59-.52 0-1.04.2-1.43.59L10.3 9.45l-7.72 7.72c-.78.78-.78 2.05 0 2.83L4 21.41c.39.39.9.59 1.41.59.51 0 1.02-.2 1.41-.59l7.78-7.78 2.81-2.81c.8-.78.8-2.07 0-2.86zM5.41 20L4 18.59l7.72-7.72 1.47 1.35L5.41 20z\"/>\n",
       "  </svg>\n",
       "      </button>\n",
       "      \n",
       "  <style>\n",
       "    .colab-df-container {\n",
       "      display:flex;\n",
       "      flex-wrap:wrap;\n",
       "      gap: 12px;\n",
       "    }\n",
       "\n",
       "    .colab-df-convert {\n",
       "      background-color: #E8F0FE;\n",
       "      border: none;\n",
       "      border-radius: 50%;\n",
       "      cursor: pointer;\n",
       "      display: none;\n",
       "      fill: #1967D2;\n",
       "      height: 32px;\n",
       "      padding: 0 0 0 0;\n",
       "      width: 32px;\n",
       "    }\n",
       "\n",
       "    .colab-df-convert:hover {\n",
       "      background-color: #E2EBFA;\n",
       "      box-shadow: 0px 1px 2px rgba(60, 64, 67, 0.3), 0px 1px 3px 1px rgba(60, 64, 67, 0.15);\n",
       "      fill: #174EA6;\n",
       "    }\n",
       "\n",
       "    [theme=dark] .colab-df-convert {\n",
       "      background-color: #3B4455;\n",
       "      fill: #D2E3FC;\n",
       "    }\n",
       "\n",
       "    [theme=dark] .colab-df-convert:hover {\n",
       "      background-color: #434B5C;\n",
       "      box-shadow: 0px 1px 3px 1px rgba(0, 0, 0, 0.15);\n",
       "      filter: drop-shadow(0px 1px 2px rgba(0, 0, 0, 0.3));\n",
       "      fill: #FFFFFF;\n",
       "    }\n",
       "  </style>\n",
       "\n",
       "      <script>\n",
       "        const buttonEl =\n",
       "          document.querySelector('#df-9d0b91ac-005b-4f0e-96ab-0245fdd908f6 button.colab-df-convert');\n",
       "        buttonEl.style.display =\n",
       "          google.colab.kernel.accessAllowed ? 'block' : 'none';\n",
       "\n",
       "        async function convertToInteractive(key) {\n",
       "          const element = document.querySelector('#df-9d0b91ac-005b-4f0e-96ab-0245fdd908f6');\n",
       "          const dataTable =\n",
       "            await google.colab.kernel.invokeFunction('convertToInteractive',\n",
       "                                                     [key], {});\n",
       "          if (!dataTable) return;\n",
       "\n",
       "          const docLinkHtml = 'Like what you see? Visit the ' +\n",
       "            '<a target=\"_blank\" href=https://colab.research.google.com/notebooks/data_table.ipynb>data table notebook</a>'\n",
       "            + ' to learn more about interactive tables.';\n",
       "          element.innerHTML = '';\n",
       "          dataTable['output_type'] = 'display_data';\n",
       "          await google.colab.output.renderOutput(dataTable, element);\n",
       "          const docLink = document.createElement('div');\n",
       "          docLink.innerHTML = docLinkHtml;\n",
       "          element.appendChild(docLink);\n",
       "        }\n",
       "      </script>\n",
       "    </div>\n",
       "  </div>\n",
       "  "
      ],
      "text/plain": [
       "             id                              hash  \\\n",
       "651   4548261.0  5a1820eed3230dccb1135b535db1684b   \n",
       "1124  1049790.0  88e8a96c7c5192b45e78d97a87641b7f   \n",
       "1647  3576546.0  7dc5cc00e94103834bb6b2c00ca48598   \n",
       "405   5488379.0  637230fffce35b7897d9dd56ceaeda28   \n",
       "534   4039616.0  ebde0d8941f18659ef214ff7802ef9cc   \n",
       "\n",
       "                                                content  label   dataset  \\\n",
       "651   One of the problems for older veterans who com...    0.0     Set 3   \n",
       "1124                        I like my 38 cal. revolver.    0.0     Set 1   \n",
       "1647  Your quote - hard times - is sooo timely and t...    0.0     Set 3   \n",
       "405   Composure or being calm, self-control, master ...    0.0  nock2000   \n",
       "534   If I did not carry a small .380, then most day...    0.0     Set 5   \n",
       "\n",
       "      reputation  contact_size  type   ancestry  \\\n",
       "651     0.081236      0.024348   0.0  4547524.0   \n",
       "1124    0.093517      0.067501   0.0  1049787.0   \n",
       "1647    0.059932      0.008166   0.0  3575147.0   \n",
       "405     0.012679      0.002248   0.0  5488183.0   \n",
       "534     0.001183      0.002173   0.0  4038834.0   \n",
       "\n",
       "                                                   tags  \\\n",
       "651    [\"suicide\",\"mental health\",\"health\",\"caregiver\"]   \n",
       "1124  [\"firearms and guns\",\"shooting\",\"self defense\"...   \n",
       "1647  [\"motivation\",\"inspiration\",\"friends\",\"faith\",...   \n",
       "405   [\"motivation\",\"inspiration\",\"leadership\",\"comm...   \n",
       "534          [\"handguns and pistols\",\"concealed carry\"]   \n",
       "\n",
       "                                       type_tag_content  \n",
       "651   type| comment tag| suicide mental health healt...  \n",
       "1124  type| comment tag| firearms and guns shooting ...  \n",
       "1647  type| comment tag| motivation inspiration frie...  \n",
       "405   type| comment tag| motivation inspiration lead...  \n",
       "534   type| comment tag| handguns and pistols concea...  "
      ]
     },
     "execution_count": 9,
     "metadata": {},
     "output_type": "execute_result"
    }
   ],
   "source": [
    "load_subset = 10 # or int\n",
    "\n",
    "test = pd.read_csv(data_path + test_dataset_name)\n",
    "# test.label = test.label.astype('int8')\n",
    "if load_subset:\n",
    "  test = test.sample(load_subset)\n",
    "test.head()"
   ]
  },
  {
   "cell_type": "markdown",
   "metadata": {
    "id": "DE_jPWRXzmrI"
   },
   "source": [
    "#### 2.1. This the data that is needed\n"
   ]
  },
  {
   "cell_type": "code",
   "execution_count": 10,
   "metadata": {
    "colab": {
     "base_uri": "https://localhost:8080/"
    },
    "id": "K5Uxu8hszk3Q",
    "outputId": "ec8be400-06f8-4290-8748-c2086d2c73b8"
   },
   "outputs": [
    {
     "data": {
      "text/plain": [
       "{'cat_cols': ['type'],\n",
       " 'label_col': 'label',\n",
       " 'label_list': ['SITB_ABSENT', 'SITB_PRESENT'],\n",
       " 'num_cols': ['reputation', 'contact_size'],\n",
       " 'text_cols': ['type_tag_content']}"
      ]
     },
     "execution_count": 10,
     "metadata": {},
     "output_type": "execute_result"
    }
   ],
   "source": [
    "with open(data_path + config_name, \"r\") as f:\n",
    "    data_config = dict(json.load(f))\n",
    "\n",
    "data_config"
   ]
  },
  {
   "cell_type": "markdown",
   "metadata": {
    "id": "ZIXc-MyZ0tCk"
   },
   "source": [
    "These are the variables being used:\n",
    "- 'label': 0 or 1 (integer; which is SITB_ABSENT or SITB_PRESENT)\n",
    "- 'reputation' (float between 0 and 1)\n",
    "- 'contact_size' (float between 0 and 1)\n",
    "- 'type_tag_content': three string variables concatenated. So we need to import these three variables and concatenate them.\n",
    "    - 'type': categorical, either: 0 (comment), 0.5 (question) or 1 (StatusUpdate)\n",
    "    - 'tag': list of strings, e.g., ['health', 'veterans', 'affairs', 'benefits' , 'military', 'family' , 'veterans', 'health', 'administration']\n",
    "    - 'content: string document \n",
    "    - Here's an example : 'type| comment tag| health veterans affairs benefits military family veterans health administration body| That is part of why I complain so loudly. I have been trying desperately to get mental and dental health for YEARS. My teeth are so bad now, that its a miracle I have not died from infections.' "
   ]
  },
  {
   "cell_type": "code",
   "execution_count": 11,
   "metadata": {
    "id": "pzSaxXufYY00"
   },
   "outputs": [],
   "source": [
    "torch_dataset = load_data(\n",
    "                            data_df = test,\n",
    "                            text_cols = data_config['text_cols'], #['type_tag_content']\n",
    "                            tokenizer=tokenizer,\n",
    "                            categorical_cols= data_config['cat_cols'], #['type']\n",
    "                            categorical_encode_type=None,\n",
    "                            numerical_cols= data_config['num_cols'], #['reputation', 'contact_size']\n",
    "                            sep_text_token_str=tokenizer.sep_token, #</s>\n",
    "                            label_col=data_config['label_col'], #in the DF, 0s and 1s. \n",
    "                            label_list= data_config['label_list'] #['SITB_ABSENT', 'SITB_PRESENT'] not in DF, just what 0 and 1 are.\n",
    ")"
   ]
  },
  {
   "cell_type": "markdown",
   "metadata": {
    "id": "V885sgKSYY01"
   },
   "source": [
    "# 3. Predict"
   ]
  },
  {
   "cell_type": "code",
   "execution_count": 15,
   "metadata": {
    "colab": {
     "base_uri": "https://localhost:8080/",
     "height": 395,
     "referenced_widgets": [
      "aa473477bbc74c9cb11d6af820c6917b",
      "c1450c5d9f744e2bbaef9e68f99c92d2",
      "f9242538d8274828bdcae9efea918ef2",
      "2d56136045a74f56987aa47e59f5ab7c",
      "75959293b2c54f52a7278f1390e01b86",
      "4d528cb434884f63ac453578d3178fe0",
      "358ca97c889a4bfa99c7600f46169508",
      "85465e7d01824ae492221bdfdb0ae943",
      "ac31e85082d84fa7ae9fe0b6987a90a2",
      "c28f7170de8e47f28eeed9bfeea47657",
      "c1bcee85340a4a919fd90733c9cce38f"
     ]
    },
    "id": "VD5d7G8dXwO5",
    "outputId": "9415922e-ab90-4432-e9ec-838a6bb8ae8d"
   },
   "outputs": [
    {
     "data": {
      "application/vnd.jupyter.widget-view+json": {
       "model_id": "aa473477bbc74c9cb11d6af820c6917b",
       "version_major": 2,
       "version_minor": 0
      },
      "text/plain": [
       "Prediction:   0%|          | 0/2 [00:00<?, ?it/s]"
      ]
     },
     "metadata": {},
     "output_type": "display_data"
    },
    {
     "data": {
      "text/html": [
       "\n",
       "  <div id=\"df-21e30147-f9f5-4f1d-af15-b74deb5ae244\">\n",
       "    <div class=\"colab-df-container\">\n",
       "      <div>\n",
       "<style scoped>\n",
       "    .dataframe tbody tr th:only-of-type {\n",
       "        vertical-align: middle;\n",
       "    }\n",
       "\n",
       "    .dataframe tbody tr th {\n",
       "        vertical-align: top;\n",
       "    }\n",
       "\n",
       "    .dataframe thead th {\n",
       "        text-align: right;\n",
       "    }\n",
       "</style>\n",
       "<table border=\"1\" class=\"dataframe\">\n",
       "  <thead>\n",
       "    <tr style=\"text-align: right;\">\n",
       "      <th></th>\n",
       "      <th>id</th>\n",
       "      <th>reputation</th>\n",
       "      <th>contact_size</th>\n",
       "      <th>type_tag_content</th>\n",
       "      <th>y_pred_softmax</th>\n",
       "      <th>y_pred</th>\n",
       "    </tr>\n",
       "  </thead>\n",
       "  <tbody>\n",
       "    <tr>\n",
       "      <th>651</th>\n",
       "      <td>4548261.0</td>\n",
       "      <td>0.081236</td>\n",
       "      <td>0.024348</td>\n",
       "      <td>type| comment tag| suicide mental health healt...</td>\n",
       "      <td>0.999</td>\n",
       "      <td>0</td>\n",
       "    </tr>\n",
       "    <tr>\n",
       "      <th>1124</th>\n",
       "      <td>1049790.0</td>\n",
       "      <td>0.093517</td>\n",
       "      <td>0.067501</td>\n",
       "      <td>type| comment tag| firearms and guns shooting ...</td>\n",
       "      <td>1.000</td>\n",
       "      <td>0</td>\n",
       "    </tr>\n",
       "    <tr>\n",
       "      <th>1647</th>\n",
       "      <td>3576546.0</td>\n",
       "      <td>0.059932</td>\n",
       "      <td>0.008166</td>\n",
       "      <td>type| comment tag| motivation inspiration frie...</td>\n",
       "      <td>0.999</td>\n",
       "      <td>0</td>\n",
       "    </tr>\n",
       "    <tr>\n",
       "      <th>405</th>\n",
       "      <td>5488379.0</td>\n",
       "      <td>0.012679</td>\n",
       "      <td>0.002248</td>\n",
       "      <td>type| comment tag| motivation inspiration lead...</td>\n",
       "      <td>0.997</td>\n",
       "      <td>0</td>\n",
       "    </tr>\n",
       "    <tr>\n",
       "      <th>534</th>\n",
       "      <td>4039616.0</td>\n",
       "      <td>0.001183</td>\n",
       "      <td>0.002173</td>\n",
       "      <td>type| comment tag| handguns and pistols concea...</td>\n",
       "      <td>1.000</td>\n",
       "      <td>0</td>\n",
       "    </tr>\n",
       "    <tr>\n",
       "      <th>1377</th>\n",
       "      <td>3937286.0</td>\n",
       "      <td>0.000711</td>\n",
       "      <td>0.001723</td>\n",
       "      <td>type| comment tag| retirement benifits veteran...</td>\n",
       "      <td>1.000</td>\n",
       "      <td>0</td>\n",
       "    </tr>\n",
       "    <tr>\n",
       "      <th>1261</th>\n",
       "      <td>1136429.0</td>\n",
       "      <td>0.128378</td>\n",
       "      <td>0.047723</td>\n",
       "      <td>type| comment tag| transition body| All I want...</td>\n",
       "      <td>1.000</td>\n",
       "      <td>0</td>\n",
       "    </tr>\n",
       "    <tr>\n",
       "      <th>23</th>\n",
       "      <td>4224771.0</td>\n",
       "      <td>0.000129</td>\n",
       "      <td>0.000000</td>\n",
       "      <td>type| comment tag| ucmj article 15 humor body|...</td>\n",
       "      <td>1.000</td>\n",
       "      <td>0</td>\n",
       "    </tr>\n",
       "    <tr>\n",
       "      <th>602</th>\n",
       "      <td>4056511.0</td>\n",
       "      <td>0.081236</td>\n",
       "      <td>0.024348</td>\n",
       "      <td>type| comment tag| mental health services depr...</td>\n",
       "      <td>0.999</td>\n",
       "      <td>0</td>\n",
       "    </tr>\n",
       "    <tr>\n",
       "      <th>1110</th>\n",
       "      <td>3641043.0</td>\n",
       "      <td>0.001923</td>\n",
       "      <td>0.002772</td>\n",
       "      <td>type| comment tag| military career security fo...</td>\n",
       "      <td>1.000</td>\n",
       "      <td>0</td>\n",
       "    </tr>\n",
       "  </tbody>\n",
       "</table>\n",
       "</div>\n",
       "      <button class=\"colab-df-convert\" onclick=\"convertToInteractive('df-21e30147-f9f5-4f1d-af15-b74deb5ae244')\"\n",
       "              title=\"Convert this dataframe to an interactive table.\"\n",
       "              style=\"display:none;\">\n",
       "        \n",
       "  <svg xmlns=\"http://www.w3.org/2000/svg\" height=\"24px\"viewBox=\"0 0 24 24\"\n",
       "       width=\"24px\">\n",
       "    <path d=\"M0 0h24v24H0V0z\" fill=\"none\"/>\n",
       "    <path d=\"M18.56 5.44l.94 2.06.94-2.06 2.06-.94-2.06-.94-.94-2.06-.94 2.06-2.06.94zm-11 1L8.5 8.5l.94-2.06 2.06-.94-2.06-.94L8.5 2.5l-.94 2.06-2.06.94zm10 10l.94 2.06.94-2.06 2.06-.94-2.06-.94-.94-2.06-.94 2.06-2.06.94z\"/><path d=\"M17.41 7.96l-1.37-1.37c-.4-.4-.92-.59-1.43-.59-.52 0-1.04.2-1.43.59L10.3 9.45l-7.72 7.72c-.78.78-.78 2.05 0 2.83L4 21.41c.39.39.9.59 1.41.59.51 0 1.02-.2 1.41-.59l7.78-7.78 2.81-2.81c.8-.78.8-2.07 0-2.86zM5.41 20L4 18.59l7.72-7.72 1.47 1.35L5.41 20z\"/>\n",
       "  </svg>\n",
       "      </button>\n",
       "      \n",
       "  <style>\n",
       "    .colab-df-container {\n",
       "      display:flex;\n",
       "      flex-wrap:wrap;\n",
       "      gap: 12px;\n",
       "    }\n",
       "\n",
       "    .colab-df-convert {\n",
       "      background-color: #E8F0FE;\n",
       "      border: none;\n",
       "      border-radius: 50%;\n",
       "      cursor: pointer;\n",
       "      display: none;\n",
       "      fill: #1967D2;\n",
       "      height: 32px;\n",
       "      padding: 0 0 0 0;\n",
       "      width: 32px;\n",
       "    }\n",
       "\n",
       "    .colab-df-convert:hover {\n",
       "      background-color: #E2EBFA;\n",
       "      box-shadow: 0px 1px 2px rgba(60, 64, 67, 0.3), 0px 1px 3px 1px rgba(60, 64, 67, 0.15);\n",
       "      fill: #174EA6;\n",
       "    }\n",
       "\n",
       "    [theme=dark] .colab-df-convert {\n",
       "      background-color: #3B4455;\n",
       "      fill: #D2E3FC;\n",
       "    }\n",
       "\n",
       "    [theme=dark] .colab-df-convert:hover {\n",
       "      background-color: #434B5C;\n",
       "      box-shadow: 0px 1px 3px 1px rgba(0, 0, 0, 0.15);\n",
       "      filter: drop-shadow(0px 1px 2px rgba(0, 0, 0, 0.3));\n",
       "      fill: #FFFFFF;\n",
       "    }\n",
       "  </style>\n",
       "\n",
       "      <script>\n",
       "        const buttonEl =\n",
       "          document.querySelector('#df-21e30147-f9f5-4f1d-af15-b74deb5ae244 button.colab-df-convert');\n",
       "        buttonEl.style.display =\n",
       "          google.colab.kernel.accessAllowed ? 'block' : 'none';\n",
       "\n",
       "        async function convertToInteractive(key) {\n",
       "          const element = document.querySelector('#df-21e30147-f9f5-4f1d-af15-b74deb5ae244');\n",
       "          const dataTable =\n",
       "            await google.colab.kernel.invokeFunction('convertToInteractive',\n",
       "                                                     [key], {});\n",
       "          if (!dataTable) return;\n",
       "\n",
       "          const docLinkHtml = 'Like what you see? Visit the ' +\n",
       "            '<a target=\"_blank\" href=https://colab.research.google.com/notebooks/data_table.ipynb>data table notebook</a>'\n",
       "            + ' to learn more about interactive tables.';\n",
       "          element.innerHTML = '';\n",
       "          dataTable['output_type'] = 'display_data';\n",
       "          await google.colab.output.renderOutput(dataTable, element);\n",
       "          const docLink = document.createElement('div');\n",
       "          docLink.innerHTML = docLinkHtml;\n",
       "          element.appendChild(docLink);\n",
       "        }\n",
       "      </script>\n",
       "    </div>\n",
       "  </div>\n",
       "  "
      ],
      "text/plain": [
       "             id  reputation  contact_size  \\\n",
       "651   4548261.0    0.081236      0.024348   \n",
       "1124  1049790.0    0.093517      0.067501   \n",
       "1647  3576546.0    0.059932      0.008166   \n",
       "405   5488379.0    0.012679      0.002248   \n",
       "534   4039616.0    0.001183      0.002173   \n",
       "1377  3937286.0    0.000711      0.001723   \n",
       "1261  1136429.0    0.128378      0.047723   \n",
       "23    4224771.0    0.000129      0.000000   \n",
       "602   4056511.0    0.081236      0.024348   \n",
       "1110  3641043.0    0.001923      0.002772   \n",
       "\n",
       "                                       type_tag_content  y_pred_softmax  \\\n",
       "651   type| comment tag| suicide mental health healt...           0.999   \n",
       "1124  type| comment tag| firearms and guns shooting ...           1.000   \n",
       "1647  type| comment tag| motivation inspiration frie...           0.999   \n",
       "405   type| comment tag| motivation inspiration lead...           0.997   \n",
       "534   type| comment tag| handguns and pistols concea...           1.000   \n",
       "1377  type| comment tag| retirement benifits veteran...           1.000   \n",
       "1261  type| comment tag| transition body| All I want...           1.000   \n",
       "23    type| comment tag| ucmj article 15 humor body|...           1.000   \n",
       "602   type| comment tag| mental health services depr...           0.999   \n",
       "1110  type| comment tag| military career security fo...           1.000   \n",
       "\n",
       "      y_pred  \n",
       "651        0  \n",
       "1124       0  \n",
       "1647       0  \n",
       "405        0  \n",
       "534        0  \n",
       "1377       0  \n",
       "1261       0  \n",
       "23         0  \n",
       "602        0  \n",
       "1110       0  "
      ]
     },
     "execution_count": 15,
     "metadata": {},
     "output_type": "execute_result"
    }
   ],
   "source": [
    "# This took 50 sec for 1712 predictions with Google Colab GPU (2022) or 2 sec for 100 predictions. \n",
    "prediction_object = trainer.predict(test_dataset=torch_dataset) #this provides values for 0 and 1\n",
    "predictions = prediction_object.predictions\n",
    "\n",
    "# Compare different thresholds to label_ids provided in prediction_object output\n",
    "predictions_softmax = softmax(predictions, axis=1)\n",
    "y_pred = np.array([np.argmax(elem) for elem in predictions_softmax]) # threshold = 0.5. Take largest (0.51 over 0.49)\n",
    "prediction_labels_softmax_score = [np.round(n[label],3) for n,label in zip(predictions_softmax,y_pred)]\n",
    "\n",
    "# Display minimal info: ID, post, y_pred\n",
    "test['y_pred'] = y_pred\n",
    "test['y_pred_softmax'] = prediction_labels_softmax_score\n",
    "test[['y_pred_softmax_sitb-','y_pred_softmax_sitb+']] = predictions_softmax\n",
    "test[['y_pred_logit_sitb-','y_pred_logit_sitb+']] = predictions\n",
    "test[['id','reputation', 'contact_size', 'type_tag_content','y_pred_softmax','y_pred']]"
   ]
  },
  {
   "cell_type": "code",
   "execution_count": 16,
   "metadata": {
    "id": "NwcHNF3-awjM"
   },
   "outputs": [],
   "source": [
    "ts = datetime.datetime.utcnow().strftime('%y-%m-%dT%H-%M-%S')\n",
    "test.to_csv(output_dir+f'predictions_{ts}.csv')"
   ]
  },
  {
   "cell_type": "code",
   "execution_count": 14,
   "metadata": {
    "id": "nvbkshXCbXDs"
   },
   "outputs": [],
   "source": []
  }
 ],
 "metadata": {
  "accelerator": "GPU",
  "colab": {
   "collapsed_sections": [],
   "include_colab_link": true,
   "name": "multimodal_suicide_detector_minimal.ipynb",
   "provenance": []
  },
  "kernelspec": {
   "display_name": "Python (myenv)",
   "language": "python",
   "name": "myenv"
  },
  "language_info": {
   "codemirror_mode": {
    "name": "ipython",
    "version": 3
   },
   "file_extension": ".py",
   "mimetype": "text/x-python",
   "name": "python",
   "nbconvert_exporter": "python",
   "pygments_lexer": "ipython3",
   "version": "3.7.10"
  },
  "widgets": {
   "application/vnd.jupyter.widget-state+json": {
    "2d56136045a74f56987aa47e59f5ab7c": {
     "model_module": "@jupyter-widgets/controls",
     "model_module_version": "1.5.0",
     "model_name": "HTMLModel",
     "state": {
      "_dom_classes": [],
      "_model_module": "@jupyter-widgets/controls",
      "_model_module_version": "1.5.0",
      "_model_name": "HTMLModel",
      "_view_count": null,
      "_view_module": "@jupyter-widgets/controls",
      "_view_module_version": "1.5.0",
      "_view_name": "HTMLView",
      "description": "",
      "description_tooltip": null,
      "layout": "IPY_MODEL_c28f7170de8e47f28eeed9bfeea47657",
      "placeholder": "​",
      "style": "IPY_MODEL_c1bcee85340a4a919fd90733c9cce38f",
      "value": " 2/2 [00:00&lt;00:00,  3.14it/s]"
     }
    },
    "358ca97c889a4bfa99c7600f46169508": {
     "model_module": "@jupyter-widgets/controls",
     "model_module_version": "1.5.0",
     "model_name": "DescriptionStyleModel",
     "state": {
      "_model_module": "@jupyter-widgets/controls",
      "_model_module_version": "1.5.0",
      "_model_name": "DescriptionStyleModel",
      "_view_count": null,
      "_view_module": "@jupyter-widgets/base",
      "_view_module_version": "1.2.0",
      "_view_name": "StyleView",
      "description_width": ""
     }
    },
    "4d528cb434884f63ac453578d3178fe0": {
     "model_module": "@jupyter-widgets/base",
     "model_module_version": "1.2.0",
     "model_name": "LayoutModel",
     "state": {
      "_model_module": "@jupyter-widgets/base",
      "_model_module_version": "1.2.0",
      "_model_name": "LayoutModel",
      "_view_count": null,
      "_view_module": "@jupyter-widgets/base",
      "_view_module_version": "1.2.0",
      "_view_name": "LayoutView",
      "align_content": null,
      "align_items": null,
      "align_self": null,
      "border": null,
      "bottom": null,
      "display": null,
      "flex": null,
      "flex_flow": null,
      "grid_area": null,
      "grid_auto_columns": null,
      "grid_auto_flow": null,
      "grid_auto_rows": null,
      "grid_column": null,
      "grid_gap": null,
      "grid_row": null,
      "grid_template_areas": null,
      "grid_template_columns": null,
      "grid_template_rows": null,
      "height": null,
      "justify_content": null,
      "justify_items": null,
      "left": null,
      "margin": null,
      "max_height": null,
      "max_width": null,
      "min_height": null,
      "min_width": null,
      "object_fit": null,
      "object_position": null,
      "order": null,
      "overflow": null,
      "overflow_x": null,
      "overflow_y": null,
      "padding": null,
      "right": null,
      "top": null,
      "visibility": null,
      "width": null
     }
    },
    "75959293b2c54f52a7278f1390e01b86": {
     "model_module": "@jupyter-widgets/base",
     "model_module_version": "1.2.0",
     "model_name": "LayoutModel",
     "state": {
      "_model_module": "@jupyter-widgets/base",
      "_model_module_version": "1.2.0",
      "_model_name": "LayoutModel",
      "_view_count": null,
      "_view_module": "@jupyter-widgets/base",
      "_view_module_version": "1.2.0",
      "_view_name": "LayoutView",
      "align_content": null,
      "align_items": null,
      "align_self": null,
      "border": null,
      "bottom": null,
      "display": null,
      "flex": null,
      "flex_flow": null,
      "grid_area": null,
      "grid_auto_columns": null,
      "grid_auto_flow": null,
      "grid_auto_rows": null,
      "grid_column": null,
      "grid_gap": null,
      "grid_row": null,
      "grid_template_areas": null,
      "grid_template_columns": null,
      "grid_template_rows": null,
      "height": null,
      "justify_content": null,
      "justify_items": null,
      "left": null,
      "margin": null,
      "max_height": null,
      "max_width": null,
      "min_height": null,
      "min_width": null,
      "object_fit": null,
      "object_position": null,
      "order": null,
      "overflow": null,
      "overflow_x": null,
      "overflow_y": null,
      "padding": null,
      "right": null,
      "top": null,
      "visibility": null,
      "width": null
     }
    },
    "85465e7d01824ae492221bdfdb0ae943": {
     "model_module": "@jupyter-widgets/base",
     "model_module_version": "1.2.0",
     "model_name": "LayoutModel",
     "state": {
      "_model_module": "@jupyter-widgets/base",
      "_model_module_version": "1.2.0",
      "_model_name": "LayoutModel",
      "_view_count": null,
      "_view_module": "@jupyter-widgets/base",
      "_view_module_version": "1.2.0",
      "_view_name": "LayoutView",
      "align_content": null,
      "align_items": null,
      "align_self": null,
      "border": null,
      "bottom": null,
      "display": null,
      "flex": null,
      "flex_flow": null,
      "grid_area": null,
      "grid_auto_columns": null,
      "grid_auto_flow": null,
      "grid_auto_rows": null,
      "grid_column": null,
      "grid_gap": null,
      "grid_row": null,
      "grid_template_areas": null,
      "grid_template_columns": null,
      "grid_template_rows": null,
      "height": null,
      "justify_content": null,
      "justify_items": null,
      "left": null,
      "margin": null,
      "max_height": null,
      "max_width": null,
      "min_height": null,
      "min_width": null,
      "object_fit": null,
      "object_position": null,
      "order": null,
      "overflow": null,
      "overflow_x": null,
      "overflow_y": null,
      "padding": null,
      "right": null,
      "top": null,
      "visibility": null,
      "width": null
     }
    },
    "aa473477bbc74c9cb11d6af820c6917b": {
     "model_module": "@jupyter-widgets/controls",
     "model_module_version": "1.5.0",
     "model_name": "HBoxModel",
     "state": {
      "_dom_classes": [],
      "_model_module": "@jupyter-widgets/controls",
      "_model_module_version": "1.5.0",
      "_model_name": "HBoxModel",
      "_view_count": null,
      "_view_module": "@jupyter-widgets/controls",
      "_view_module_version": "1.5.0",
      "_view_name": "HBoxView",
      "box_style": "",
      "children": [
       "IPY_MODEL_c1450c5d9f744e2bbaef9e68f99c92d2",
       "IPY_MODEL_f9242538d8274828bdcae9efea918ef2",
       "IPY_MODEL_2d56136045a74f56987aa47e59f5ab7c"
      ],
      "layout": "IPY_MODEL_75959293b2c54f52a7278f1390e01b86"
     }
    },
    "ac31e85082d84fa7ae9fe0b6987a90a2": {
     "model_module": "@jupyter-widgets/controls",
     "model_module_version": "1.5.0",
     "model_name": "ProgressStyleModel",
     "state": {
      "_model_module": "@jupyter-widgets/controls",
      "_model_module_version": "1.5.0",
      "_model_name": "ProgressStyleModel",
      "_view_count": null,
      "_view_module": "@jupyter-widgets/base",
      "_view_module_version": "1.2.0",
      "_view_name": "StyleView",
      "bar_color": null,
      "description_width": ""
     }
    },
    "c1450c5d9f744e2bbaef9e68f99c92d2": {
     "model_module": "@jupyter-widgets/controls",
     "model_module_version": "1.5.0",
     "model_name": "HTMLModel",
     "state": {
      "_dom_classes": [],
      "_model_module": "@jupyter-widgets/controls",
      "_model_module_version": "1.5.0",
      "_model_name": "HTMLModel",
      "_view_count": null,
      "_view_module": "@jupyter-widgets/controls",
      "_view_module_version": "1.5.0",
      "_view_name": "HTMLView",
      "description": "",
      "description_tooltip": null,
      "layout": "IPY_MODEL_4d528cb434884f63ac453578d3178fe0",
      "placeholder": "​",
      "style": "IPY_MODEL_358ca97c889a4bfa99c7600f46169508",
      "value": "Prediction: 100%"
     }
    },
    "c1bcee85340a4a919fd90733c9cce38f": {
     "model_module": "@jupyter-widgets/controls",
     "model_module_version": "1.5.0",
     "model_name": "DescriptionStyleModel",
     "state": {
      "_model_module": "@jupyter-widgets/controls",
      "_model_module_version": "1.5.0",
      "_model_name": "DescriptionStyleModel",
      "_view_count": null,
      "_view_module": "@jupyter-widgets/base",
      "_view_module_version": "1.2.0",
      "_view_name": "StyleView",
      "description_width": ""
     }
    },
    "c28f7170de8e47f28eeed9bfeea47657": {
     "model_module": "@jupyter-widgets/base",
     "model_module_version": "1.2.0",
     "model_name": "LayoutModel",
     "state": {
      "_model_module": "@jupyter-widgets/base",
      "_model_module_version": "1.2.0",
      "_model_name": "LayoutModel",
      "_view_count": null,
      "_view_module": "@jupyter-widgets/base",
      "_view_module_version": "1.2.0",
      "_view_name": "LayoutView",
      "align_content": null,
      "align_items": null,
      "align_self": null,
      "border": null,
      "bottom": null,
      "display": null,
      "flex": null,
      "flex_flow": null,
      "grid_area": null,
      "grid_auto_columns": null,
      "grid_auto_flow": null,
      "grid_auto_rows": null,
      "grid_column": null,
      "grid_gap": null,
      "grid_row": null,
      "grid_template_areas": null,
      "grid_template_columns": null,
      "grid_template_rows": null,
      "height": null,
      "justify_content": null,
      "justify_items": null,
      "left": null,
      "margin": null,
      "max_height": null,
      "max_width": null,
      "min_height": null,
      "min_width": null,
      "object_fit": null,
      "object_position": null,
      "order": null,
      "overflow": null,
      "overflow_x": null,
      "overflow_y": null,
      "padding": null,
      "right": null,
      "top": null,
      "visibility": null,
      "width": null
     }
    },
    "f9242538d8274828bdcae9efea918ef2": {
     "model_module": "@jupyter-widgets/controls",
     "model_module_version": "1.5.0",
     "model_name": "FloatProgressModel",
     "state": {
      "_dom_classes": [],
      "_model_module": "@jupyter-widgets/controls",
      "_model_module_version": "1.5.0",
      "_model_name": "FloatProgressModel",
      "_view_count": null,
      "_view_module": "@jupyter-widgets/controls",
      "_view_module_version": "1.5.0",
      "_view_name": "ProgressView",
      "bar_style": "success",
      "description": "",
      "description_tooltip": null,
      "layout": "IPY_MODEL_85465e7d01824ae492221bdfdb0ae943",
      "max": 2,
      "min": 0,
      "orientation": "horizontal",
      "style": "IPY_MODEL_ac31e85082d84fa7ae9fe0b6987a90a2",
      "value": 2
     }
    }
   }
  }
 },
 "nbformat": 4,
 "nbformat_minor": 4
}
