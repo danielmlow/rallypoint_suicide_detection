{
 "cells": [
  {
   "cell_type": "code",
   "execution_count": 2,
   "id": "248ebcb8-a295-49dd-8d06-29873782f3d1",
   "metadata": {},
   "outputs": [],
   "source": [
    "import pandas as pd\n",
    "import numpy as np\n"
   ]
  },
  {
   "cell_type": "code",
   "execution_count": 3,
   "id": "d6b78f5a-c1c9-4ae8-a914-9c8b60e66c7f",
   "metadata": {},
   "outputs": [],
   "source": [
    "on_google_drive = False\n",
    "\n",
    "if on_google_drive:\n",
    "    from google.colab import drive\n",
    "    drive.mount('/content/drive')\n",
    "    input_dir = '/content/drive/MyDrive/datum/rallypoint_suicide_detection/data/input/'\n",
    "    output_dir = '/content/drive/MyDrive/datum/rallypoint_suicide_detection/data/output/'\n",
    "else:\n",
    "    input_dir = './data/input/'\n",
    "    output_dir = './data/output/'\n",
    "    "
   ]
  },
  {
   "cell_type": "code",
   "execution_count": 4,
   "id": "686043c5-208f-43cb-8366-8a4310614cd0",
   "metadata": {},
   "outputs": [],
   "source": [
    "df = pd.read_csv(input_dir+'dataset_preprocessed_keywords.csv', index_col = 0)\n",
    "# most_similar_df = pd.read_csv(input_dir+'most_similar_df.csv', index_col = 0)\n",
    "# embeddings_df = pd.read_csv(input_dir+'themes_embeddings_df.csv', index_col = 0)"
   ]
  },
  {
   "cell_type": "code",
   "execution_count": 6,
   "id": "3c08a38e-e45d-4c30-8c28-3efe2678c391",
   "metadata": {},
   "outputs": [],
   "source": [
    "df_present = df[df['label']==1] #suicidal\n",
    "df_absent = df[df['label']==0] # controls"
   ]
  },
  {
   "cell_type": "code",
   "execution_count": null,
   "id": "d3e8348d-55e4-46c1-862d-e6b0549f7964",
   "metadata": {},
   "outputs": [],
   "source": []
  }
 ],
 "metadata": {
  "kernelspec": {
   "display_name": "Python 3 (ipykernel)",
   "language": "python",
   "name": "python3"
  },
  "language_info": {
   "codemirror_mode": {
    "name": "ipython",
    "version": 3
   },
   "file_extension": ".py",
   "mimetype": "text/x-python",
   "name": "python",
   "nbconvert_exporter": "python",
   "pygments_lexer": "ipython3",
   "version": "3.8.15"
  }
 },
 "nbformat": 4,
 "nbformat_minor": 5
}
